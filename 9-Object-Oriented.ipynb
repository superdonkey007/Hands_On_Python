{
 "cells": [
  {
   "cell_type": "markdown",
   "metadata": {},
   "source": [
    "## Pythton面向对象编程——和C++做对比"
   ]
  },
  {
   "cell_type": "markdown",
   "metadata": {},
   "source": [
    "### 类和实例对象的语法\n",
    "对于C++来说，类中声明的变量中，没有static关键字的（非静态成员变量）就是实例变量，有static关键字的（类的静态成员变量）是类本身的成员变量。函数也类似。\n",
    "\n",
    "对于Python，类中声明的变量是类变量，在__init__()方法中声明的变量才是实例变量。\n",
    "\n",
    "用@classmethod装饰的函数是类函数，类函数只能使用类变量；\n",
    "\n",
    "用@staticmethod装饰的函数是静态函数，静态函数既不能使用类变量，也不能使用实例变量。 经常用于封装工具函数。\n",
    "\n",
    "用@property装饰的函数是属性函数，可以调用实例变量和类变量，特点是调用时不用添加括号。\n",
    "\n",
    "Python中的self（即this指针）是显式传递的。"
   ]
  },
  {
   "cell_type": "code",
   "execution_count": 1,
   "metadata": {},
   "outputs": [
    {
     "name": "stdout",
     "output_type": "stream",
     "text": [
      "Now there are 1 people in the class.\n",
      "Now there are 2 people in the class.\n",
      "Now there are 3 people in the class.\n",
      "Now there are 4 people in the class.\n",
      "28\n"
     ]
    }
   ],
   "source": [
    "class Person:\n",
    "    nationality = 'China' \n",
    "    __amount=0 #这两个都是类属性，所有实例共享。\n",
    "    def __init__(self, name, age, sex=\"M\", *args,**kwargs): #构造函数，但不能和c++一样重载，只能有一个，因此这里使用了动态参数和默认参数。\n",
    "        self.name = name\n",
    "        self.age = age\n",
    "        self.sex = sex\n",
    "        if args:  # 位置参数\n",
    "            self.a = args[0]\n",
    "        if 'b' in kwargs:  # 关键字参数\n",
    "            self.b = kwargs['b']\n",
    "        self.__class__.__increase()#self.__class__是通过一个实例直接锁定到类的方法。c++没有类似的方法。\n",
    "    \n",
    "            \n",
    "    #@classsmethod装饰器装饰的函数是类方法。        \n",
    "    @classmethod\n",
    "    def passport(cls): #类方法，第一个参数为cls，(这里也可以用self，self也表示类本身)代表类本身，也可以通过类名调用。\n",
    "        print(f\"My passport is authorized by {cls.nationality}.\")\n",
    "    @classmethod\n",
    "    def __increase(cls):\n",
    "        cls.__amount+=1\n",
    "        print(f\"Now there are {cls.__amount} people in the class.\")\n",
    "        \n",
    "    @staticmethod\n",
    "    def add(x, y): #静态方法不能使用类属性，也不能使用实例属性，割断了这个函数和类与实例的关系。\n",
    "        return x + y\n",
    "    \n",
    "    @property \n",
    "    def graduate_age(self):\n",
    "        return self.age+3\n",
    "    \n",
    "    \n",
    "    #self作为第一个函数传递。\n",
    "    def introduce(self):\n",
    "        print(f\"Hello, my name is {self.name} and I am {self.age} years old.\")\n",
    "        \n",
    "Person1=Person(\"Alice\", 25, \"F\", 10, b=20)\n",
    "Person2=Person(\"Bob\", 30, \"M\", 30, b=40)\n",
    "Person3=Person(\"Charlie\", 35, \"M\", 50, b=60)\n",
    "Person4=Person(\"Diana\", 40, \"F\", 70, b=80)\n",
    "print(Person1.graduate_age)"
   ]
  },
  {
   "cell_type": "markdown",
   "metadata": {},
   "source": [
    "Python是一个动态化的语言，不支持函数重载，一般有两种方法解决函数重载问题：\n",
    "1. 动态参数，即参数个数可变，使用*args和**kwargs\n",
    "2. 使用默认参数\n",
    "3. 类方法（@classmethod）作为替代构造函数​\n",
    "4. 使用 __new__ 方法\n",
    "后两种后面再说"
   ]
  },
  {
   "cell_type": "markdown",
   "metadata": {},
   "source": [
    "### 用实例对象访问类方法\n",
    "C++和Python在使用时都不建议用实例名访问类属性，而是建议用类名访问。\n",
    "\n",
    "但两者用实例修改类变量的操作效果是不一样的，C++中会直接修改类的静态变量，而Python是创建一个类变量的同名变量并作修改。"
   ]
  },
  {
   "cell_type": "code",
   "execution_count": 2,
   "metadata": {},
   "outputs": [
    {
     "name": "stdout",
     "output_type": "stream",
     "text": [
      "Now there are 5 people in the class.\n",
      "Now there are 6 people in the class.\n",
      "China\n",
      "China\n",
      "China\n",
      "JP\n"
     ]
    }
   ],
   "source": [
    "p1=Person(\"John\",20)\n",
    "p2=Person(\"Alice\",25)\n",
    "print(Person.nationality)\n",
    "print(p1.nationality)\n",
    "p1.nationality=\"JP\"\n",
    "print(Person.nationality)\n",
    "print(p1.nationality)"
   ]
  },
  {
   "cell_type": "markdown",
   "metadata": {},
   "source": [
    "### 类（的实例对象）之间的关系：\n",
    "1.依赖关系：如主人和狗的关系。\n",
    "\n",
    "一个类实例化时必须指定一个其他类的实例对象作为参数。\n",
    "\n",
    "2.关联关系：如男女朋友的关系。\n",
    "\n",
    "两者的关系并不是实例化所必需的，而是在运行时建立的关系。\n",
    "实现方法：将关联关系本身新建为一个类。\n",
    "\n",
    "3.组合关系：人身体内各个器官的关系。\n",
    "\n",
    "两者之间合作（可能有关联关系），并同时依赖于另一个类，当另一个类的实例对象被删除时，两者也随之删除。\n",
    "\n",
    "4.聚合关系：如电脑各个部件的关系。\n",
    "\n",
    "各类同时聚合为一个功能体，类之间有关联关系，但并不依赖于聚合而成的类，单独也能存在。\n",
    "\n",
    "5.继承关系：如猫科动物和波斯猫的关系。"
   ]
  },
  {
   "cell_type": "markdown",
   "metadata": {},
   "source": [
    "当在子类中调用父类的构造函数时，C++需要显示指定类名，如Base::Base(),没有Super()这样的写法。\n",
    "\n",
    "\n"
   ]
  },
  {
   "cell_type": "code",
   "execution_count": null,
   "metadata": {},
   "outputs": [
    {
     "name": "stdout",
     "output_type": "stream",
     "text": [
      "(<class '__main__.Something'>, <class '__main__.Dog'>, <class '__main__.Cat'>, <class '__main__.Animal'>, <class 'object'>)\n",
      "Here is a cat.\n",
      "Here is a dog.\n",
      "猫狗兽 barks.\n"
     ]
    }
   ],
   "source": [
    "# 继承关系示例\n",
    "class Animal:\n",
    "    a_type=\"哺乳动物\"\n",
    "    def __init__(self, name):\n",
    "        self.name = name\n",
    "    def speak(self):\n",
    "        print(f\"{self.name} makes a sound.\")\n",
    "\n",
    "class Dog(Animal):\n",
    "    def __init__(self, name, breed='金毛'):\n",
    "        #super()用于找到父类的方法\n",
    "        super().__init__(name)\n",
    "        self.breed = breed\n",
    "        print(\"Here is a dog.\")\n",
    "    def speak(self):\n",
    "        print(f\"{self.name} barks.\")\n",
    "\n",
    "class Cat(Animal):\n",
    "    def __init__(self, name, color='white'):\n",
    "        super().__init__(name)\n",
    "        self.color = color\n",
    "        print(\"Here is a cat.\")\n",
    "    def speak(self):\n",
    "        print(f\"{self.name} meows.\")\n",
    "\n",
    "# 对于多重继承，如果只是一个类继承两个类，可以认为会按照从左到右继承，但底层用的是C3算法，比较复杂，可以通过__mro__查看继承顺序\n",
    "# 多重继承示例\n",
    "class Something(Dog,Cat):\n",
    "    def __init__(self, name, breed, color):\n",
    "        super().__init__(name, breed)\n",
    "        self.color = color\n",
    "#查看继承顺序\n",
    "print(Something.__mro__)\n",
    "Something(\"猫狗兽\",\"ssr\",\"金色\").speak()"
   ]
  },
  {
   "cell_type": "markdown",
   "metadata": {},
   "source": [
    "### 访问权限的控制\n",
    "另外，Python中没有public、private、protected关键字，而是使用下划线来表示不同的访问权限。\n",
    "\n",
    "- 单下划线开头的变量或方法是受保护的，只能在类内部和子类中访问。\n",
    "- 双下划线开头的变量或方法是私有的，只能在类内部访问。\n",
    "但这两种也并不是硬性的，事实上按特定格式也可以访问。"
   ]
  },
  {
   "cell_type": "code",
   "execution_count": 4,
   "metadata": {},
   "outputs": [
    {
     "name": "stdout",
     "output_type": "stream",
     "text": [
      "Here is a dog.\n",
      "Rex\n",
      "金毛\n",
      "Rex barks.\n",
      "white\n"
     ]
    }
   ],
   "source": [
    "class Dog():\n",
    "    def __init__(self, name, breed='金毛'):\n",
    "        self.name = name\n",
    "        self.breed = breed\n",
    "        print(\"Here is a dog.\")\n",
    "    def __speak(self):\n",
    "        print(f\"{self.name} barks.\")\n",
    "        \n",
    "myDog = Dog('Rex')\n",
    "print(myDog.name)\n",
    "print(myDog.breed)\n",
    "#myDog.__speak()不可以直接访问私有方法\n",
    "myDog._Dog__speak()#可以通过这种方式访问私有方法(所以双下划线就像是改了个名字)\n",
    "\n",
    "myDog.__color='white'#可以直接添加属性\n",
    "print(myDog.__color)#但是可以直接访问，说明私有属性是不能在类外定义的，这样没有启动改名的机制\n",
    "#print(myDog._Dog__color) 这个就不能访问"
   ]
  },
  {
   "cell_type": "markdown",
   "metadata": {},
   "source": [
    "### Python中多态的实现\n",
    "在C++中，多态是通过虚函数和基类指针来表现的。\n",
    "\n",
    "在Python中，多态的实现是通过各种类型共同的容器来实现的。"
   ]
  },
  {
   "cell_type": "code",
   "execution_count": 5,
   "metadata": {},
   "outputs": [
    {
     "name": "stdout",
     "output_type": "stream",
     "text": [
      "Woof!\n",
      "Meow!\n",
      "WOW!\n"
     ]
    }
   ],
   "source": [
    "class Dog:\n",
    "    def speak(self):\n",
    "        return \"Woof!\"\n",
    "\n",
    "class Cat:\n",
    "    def speak(self):\n",
    "        return \"Meow!\"\n",
    "    \n",
    "class Otto:\n",
    "    def speak(self):\n",
    "        return \"WOW!\"\n",
    "    \n",
    "list=[Dog(),Cat(),Otto()]\n",
    "for animal in list:\n",
    "    print(animal.speak())"
   ]
  },
  {
   "cell_type": "markdown",
   "metadata": {},
   "source": [
    "### 反射\n",
    "反射是指程序在运行时动态地访问、检测和修改自身状态或行为的能力。具体来说，它允许coder通过字符串形式的名称来操作对象、类、模块等。\n",
    "\n",
    "Python的反射能力源于其\"一切都是对象\"的设计，模块、类、函数、实例​​都是对象，可以通过字符串名称访问。对象的属性和方法存储在 __dict__ 字典中，反射操作本质是对 __dict__ 的读写。\n",
    "\n",
    "常见的反射方法包括：\n",
    "- `hasattr(obj, name)`: 检查对象是否有指定的属性。\n",
    "- `getattr(obj, name, default=None)`: 获取对象的属性值，如果属性不存在则返回默认值。\n",
    "- `setattr(obj, name, value)`: 设置对象的属性值。\n",
    "- `delattr(obj, name)`: 删除对象的属性。\n",
    "- `​obj.__class__`: 返回实例对象的类名。\n",
    "- `importlib.import_module()`: 动态导入模块"
   ]
  },
  {
   "cell_type": "code",
   "execution_count": null,
   "metadata": {},
   "outputs": [
    {
     "name": "stdout",
     "output_type": "stream",
     "text": [
      "Has attribute 'name': True\n",
      "Name: Alice\n",
      "Hello, Alice!\n",
      "Name after modification: Bob\n",
      "Has attribute 'age': True\n",
      "Age: 15\n",
      "Goodbye!\n",
      "Has attribute 'age': False\n"
     ]
    }
   ],
   "source": [
    "#反射对类和实例对象操作的示例\n",
    "class Person:\n",
    "    def __init__(self, name):\n",
    "        self.name = name\n",
    "    def say_hello(self):\n",
    "        print(f\"Hello, {self.name}!\")\n",
    "\n",
    "# 创建一个Person对象\n",
    "person = Person(\"Alice\")\n",
    "\n",
    "# 使用反射获取对象的属性和方法\n",
    "# 判断对象是否有指定的属性或方法 hasattr(obj, name)\n",
    "print(\"Has attribute 'name':\", hasattr(person, \"name\"))  # 输出: Has attribute 'name': True\n",
    "\n",
    "# 获取对象的属性值或调用方法 getattr(obj, name[, default])\n",
    "print(\"Name:\", getattr(person, \"name\"))  # 输出: Name: Alice\n",
    "func=getattr(person, \"say_hello\")  # 获取方法对象\n",
    "func()  # 调用方法\n",
    "\n",
    "# 修改或添加对象和属性和方法 setattr(obj, name, value)\n",
    "setattr(person, \"name\", \"Bob\")  # 修改属性值\n",
    "print(\"Name after modification:\", getattr(person, \"name\"))  # 输出: Name after modification: Bob\n",
    "setattr(person, \"age\", 15)  # 添加一个新属性\n",
    "print(\"Has attribute 'age':\", hasattr(person, \"age\"))  # 输出: Has attribute 'age': True\n",
    "print(\"Age:\", getattr(person, \"age\"))  # 输出: Age: 15\n",
    "setattr(person, \"say_goodbye\", lambda: print(\"Goodbye!\"))  # 添加一个新方法\n",
    "func=getattr(person, \"say_goodbye\")  # 获取方法对象\n",
    "func()\n",
    "\n",
    "# 删除对象的属性和方法 delattr(obj, name)\n",
    "delattr(person, \"age\")  # 删除属性\n",
    "print(\"Has attribute 'age':\", hasattr(person, \"age\"))  # 输出: Has attribute 'age': False"
   ]
  },
  {
   "cell_type": "markdown",
   "metadata": {},
   "source": [
    "通过__name__可以判断当前模块是否作为主模块执行"
   ]
  },
  {
   "cell_type": "code",
   "execution_count": 17,
   "metadata": {},
   "outputs": [
    {
     "name": "stdout",
     "output_type": "stream",
     "text": [
      "__main__\n",
      "存在\n",
      "np.sqrt(4) = 2.0\n"
     ]
    }
   ],
   "source": [
    "# 反射对模块操作示例\n",
    "\n",
    "print(__name__)\n",
    "\n",
    "import numpy as np\n",
    "\n",
    "\n",
    "# 判断模块中是否有Person类\n",
    "if hasattr(np, \"ndarray\"):\n",
    "    print(\"存在\")\n",
    "    \n",
    "function_name = \"sqrt\"  # 目标函数名（字符串）\n",
    "if hasattr(np, function_name):  # 检查函数是否存在\n",
    "    np_func = getattr(np, function_name)  # 获取函数对象\n",
    "    result = np_func(4)  # 执行函数（计算平方根）\n",
    "    print(f\"np.{function_name}(4) = {result}\")  # 输出: np.sqrt(4) = 2.0\n",
    "else:\n",
    "    print(f\"NumPy has no function: {function_name}\")"
   ]
  },
  {
   "cell_type": "markdown",
   "metadata": {},
   "source": [
    "### 类的双下划线方法\n",
    "双下划线方法（Dunder Methods / Magic Methods）​​ 是类中用于定义特殊行为的内置方法，通常以 __ 开头和结尾（如 __init__）。它们允许开发者自定义类的行为，使其支持Python的核心语法（如运算符、迭代、内置函数等）。\n",
    "\n",
    "以下是一些常见的双下划线方法：\n",
    "\n",
    "对象的初始化和表示：\n",
    "1. `__init__(self, ...)`: 构造函数，用于初始化对象的属性。对应对象的构建过程。\n",
    "2. `__str__(self)`: 返回对象的字符串表示，通常用于打印对象时调用。对应print()函数。\n",
    "3. `__repr__(self)`: 返回对象的“官方”字符串表示，通常用于调试和交互环境中。对应repr()函数。\n",
    "\n",
    "运算符的重载：\n",
    "\n",
    "4. `__add__(self, other)`: 定义对象的加法操作。对应 + 运算符。\n",
    "5. `__sub__(self, other)`: 定义对象的减法操作。对应 - 运算符。\n",
    "6. `__mul__(self, other)`: 定义对象的乘法操作。对应 * 运算符。\n",
    "7. `__truediv__(self, other)`: 定义对象的除法操作。对应 / 运算符。\n",
    "8. `__eq__(self, other)`: 定义对象的相等性比较。对应 == 运算符。\n",
    "9. `__ne__(self, other)`: 定义对象的不等性比较。对应 != 运算符。\n",
    "10. `__lt__(self, other)`: 定义对象的小于比较。对应 < 运算符。\n",
    "11. `__le__(self, other)`: 定义对象的小于等于比较。对应 <= 运算符。\n",
    "12. `__gt__(self, other)`: 定义对象的大于比较。对应 > 运算符。\n",
    "    \n",
    "容器类型的行为：\n",
    "\n",
    "13. `__len__(self)`: 返回容器中元素的数量。对应 len() 函数。\n",
    "14. `__getitem__(self, key)`: 定义对象的索引操作，用于访问容器中的元素。对应索引操作。\n",
    "15. `__setitem__(self, key, value)`: 定义对象的索引赋值操作，用于修改容器中的元素。对应索引赋值操作。\n",
    "16. `__delitem__(self, key)`: 定义对象的索引删除操作，用于删除容器中的元素。对应 del 语句。\n",
    "\n",
    "迭代器和生成器：\n",
    "\n",
    "17.  `__iter__(self)`: 返回一个迭代器对象，用于遍历容器中的元素。对应 iter() 函数。\n",
    "18.  `__next__(self)`: 定义迭代器对象的迭代行为，用于返回下一个元素。对应 next() 函数。"
   ]
  },
  {
   "cell_type": "markdown",
   "metadata": {},
   "source": [
    "### __new__方法和单例模式\n",
    "事实上一个类的实例化过程可以分为三个步骤:\n",
    "1. 调用__new__方法,创建一个新的对象。\n",
    "2. 调用__init__方法,初始化这个对象。\n",
    "3. 返回这个对象。\n",
    "\n",
    "所以__new__方法是在__init__方法之前调用的静态方法，python底层标记为静态，显式添加@staticmethod反而会破坏其工作。\n",
    "\n",
    "__new__方法的第一个参数是cls,表示要创建的类,第二个参数是*args和**kwargs,这些参数与__init__方法共享。\n",
    "\n",
    "__new__方法的返回值是一个实例对象,这个对象会被传递给__init__方法。\n"
   ]
  },
  {
   "cell_type": "code",
   "execution_count": 19,
   "metadata": {},
   "outputs": [
    {
     "name": "stdout",
     "output_type": "stream",
     "text": [
      "__new__\n",
      "__init__\n",
      "zs\n"
     ]
    }
   ],
   "source": [
    "class Student:\n",
    "    def __init__(self, name):\n",
    "        print('__init__')\n",
    "        self.name = name\n",
    "    def __new__(cls, *args, **kwargs):\n",
    "        print('__new__')\n",
    "        return super().__new__(cls)\n",
    "    \n",
    "stu = Student('zs')\n",
    "print(stu.name)"
   ]
  },
  {
   "cell_type": "code",
   "execution_count": 20,
   "metadata": {},
   "outputs": [
    {
     "name": "stdout",
     "output_type": "stream",
     "text": [
      "True\n",
      "First\n",
      "First\n"
     ]
    }
   ],
   "source": [
    "# 单例模式的实现\n",
    "class Singleton:\n",
    "    _instance = None  # 类变量，保存唯一实例\n",
    "\n",
    "    def __new__(cls, *args, **kwargs):\n",
    "        # 如果实例不存在，则创建；否则直接返回已有实例\n",
    "        if cls._instance is None:\n",
    "            cls._instance = super().__new__(cls)  # 调用父类创建实例\n",
    "        return cls._instance  # 始终返回同一实例\n",
    "\n",
    "    def __init__(self, value):\n",
    "        # 每次实例化都会调用 __init__，因此需要避免重复初始化\n",
    "        if not hasattr(self, '_initialized'):  # 检查是否已初始化\n",
    "            self.value = value\n",
    "            self._initialized = True  # 标记为已初始化\n",
    "\n",
    "# 测试\n",
    "s1 = Singleton(\"First\")\n",
    "s2 = Singleton(\"Second\")\n",
    "\n",
    "print(s1 is s2)        # 输出: True（是同一个实例）\n",
    "print(s1.value)        # 输出: \"First\"（s2的初始化被跳过）\n",
    "print(s2.value)        # 输出: \"First\"（值未被覆盖）"
   ]
  },
  {
   "cell_type": "markdown",
   "metadata": {},
   "source": [
    "### __call__方法和可调用对象\n",
    "\n",
    "_call__方法​​的作用是让一个类的实例能够像函数一样被调用（即实现“可调用对象”）。\n",
    "\n",
    "当在实例后加括号时（如instance()），Python会自动调用该实例的__call__方法。"
   ]
  },
  {
   "cell_type": "code",
   "execution_count": null,
   "metadata": {},
   "outputs": [
    {
     "name": "stdout",
     "output_type": "stream",
     "text": [
      "8\n",
      "15\n"
     ]
    }
   ],
   "source": [
    "# 将对象转化成函数的形式\n",
    "class Adder:\n",
    "    def __init__(self, base):\n",
    "        self.base = base  # 维护内部状态\n",
    "\n",
    "    def __call__(self, x):\n",
    "        return self.base + x  # 实例调用时执行的逻辑\n",
    "\n",
    "add_5 = Adder(5)      # 创建实例，base=5\n",
    "print(add_5(3))       # 输出: 8 （等价于 add_5.__call__(3)）\n",
    "print(add_5(10))      # 输出: 15"
   ]
  },
  {
   "cell_type": "markdown",
   "metadata": {},
   "source": [
    "### 通过type动态创建类\n",
    "所有的类（包括内置类和用户自定义类）本质上都是 ​​type 类的实例​​。这种设计源于Python的元类（Metaclass）机制，type 是默认的元类，负责创建和定义类。"
   ]
  },
  {
   "cell_type": "code",
   "execution_count": 23,
   "metadata": {},
   "outputs": [
    {
     "name": "stdout",
     "output_type": "stream",
     "text": [
      "<class 'type'>\n",
      "Hello, my name is Alice and I am 20 years old.\n",
      "MIT\n",
      "Alice is studying Math\n"
     ]
    }
   ],
   "source": [
    "class Person:\n",
    "    def __init__(self, name, age):\n",
    "        self.name = name\n",
    "        self.age = age\n",
    "    def introduce(self):\n",
    "        print(f\"Hello, my name is {self.name} and I am {self.age} years old.\")\n",
    "        \n",
    "print(type(Person))\n",
    "\n",
    "# 用type创建一个类,第一个参数是类名,第二个参数是父类,第三个参数是类的属性和方法,返回一个类对象。\n",
    "Student = type(\n",
    "    'Student',                   # 类名\n",
    "    (Person,),                   # 父类元组（注意逗号表示单元素元组）\n",
    "    {\n",
    "        'school': 'MIT',         # 类属性\n",
    "        'study': lambda self, subject: print(f\"{self.name} is studying {subject}\")  # 方法\n",
    "    }\n",
    ")\n",
    "\n",
    "# 测试动态创建的类\n",
    "s = Student(\"Alice\", 20)\n",
    "s.introduce()          # 继承自 Person 的方法\n",
    "print(s.school)        # 输出: MIT\n",
    "s.study(\"Math\")       # 输出: Alice is studying Math"
   ]
  }
 ],
 "metadata": {
  "kernelspec": {
   "display_name": "base",
   "language": "python",
   "name": "python3"
  },
  "language_info": {
   "codemirror_mode": {
    "name": "ipython",
    "version": 3
   },
   "file_extension": ".py",
   "mimetype": "text/x-python",
   "name": "python",
   "nbconvert_exporter": "python",
   "pygments_lexer": "ipython3",
   "version": "3.11.7"
  }
 },
 "nbformat": 4,
 "nbformat_minor": 2
}
