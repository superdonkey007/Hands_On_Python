{
 "cells": [
  {
   "cell_type": "markdown",
   "metadata": {},
   "source": [
    "### 内置函数"
   ]
  },
  {
   "cell_type": "code",
   "execution_count": 1,
   "metadata": {},
   "outputs": [
    {
     "name": "stdout",
     "output_type": "stream",
     "text": [
      "{'name': 'Bob', 'score': 95}\n",
      "(4, 3, 2, 1)\n"
     ]
    },
    {
     "data": {
      "text/plain": [
       "'\\n#  `int(x[, base])`: 将 x 转换为整数，base 是进制，默认为十进制。\\n#  `float(x)`: 将 x 转换为浮点数。\\n#  `complex(real[, imag])`: 创建一个复数。\\n#  `str(object)` 或 `str(object, encoding, errors)`: 创建一个字符串对象或解码 bytes 对象。\\n#  `bytes([source[, encoding[, errors]]])`: 创建一个新的 bytes 对象。\\n#  `bytearray([source[, encoding[, errors]]])`: 创建一个 bytearray 对象，它是一个可以修改的 bytes 对象。\\n#  `list(seq)`: 创建一个新的 list 从 seq。\\n#  `tuple(seq)`: 创建一个新的 tuple 从 seq。\\n#  `set([seq])`: 创建一个新的无序且不重复元素的集合。\\n#  `frozenset([seq])`: 创建一个新的不可变集合。\\n#  `dict([seq])` 或 `dict(**kwargs)`: 创建一个新的字典。seq的每个元素项必须是二元的,比如二元元组,二元列表,二元集合,其他字典的键值对等等\\n\\n\\n#  `chr(i)`: 返回 Unicode 字符串中的第 i 个字符。\\n#  `ord(c)`: 返回单个字符 c 的 Unicode 编码。\\n'"
      ]
     },
     "execution_count": 1,
     "metadata": {},
     "output_type": "execute_result"
    }
   ],
   "source": [
    "'''\n",
    "这个颜色的是常用的 \n",
    "'''\n",
    "#数学操作\n",
    "\n",
    "'''\n",
    "#  `abs(x)`: 返回数字 x 的绝对值。\n",
    "#  `pow(base, exp[, mod])`: 返回 base 的 exp 次幂，可选地，取模数 mod。\n",
    "#  `round(number[, ndigits])`: 返回 number 四舍五入到小数点后 ndigits 位的结果。\n",
    "#  `sum(seq[, start])`: 计算 seq 中所有元素的累加和，加上可选的 start 值。\n",
    "'''\n",
    "  \n",
    "# 序列操作\n",
    "\n",
    "'''\n",
    "#  `len(s)`: 返回序列 s 的长度。\n",
    "# 这里的key是一个函数,通常返回元素中要比较的键值,或者自定义特殊的排序方法\n",
    "#  `max(seq)` 或 `max(arg1, arg2, *args[, key])`: 返回最大值。\n",
    "#  `min(seq)` 或 `min(arg1, arg2, *args[, key])`: 返回最小值。\n",
    "# '''\n",
    "\n",
    "students = [\n",
    "    {'name': 'Alice', 'score': 88},\n",
    "    {'name': 'Bob', 'score': 95},\n",
    "    {'name': 'Charlie', 'score': 90}\n",
    "]\n",
    "# 使用 lambda 表达式作为 key 函数\n",
    "best_student = max(students, key=lambda student: student['score'])\n",
    "print(best_student)  # 输出: {'name': 'Bob', 'score': 95}\n",
    "\n",
    "'''\n",
    "#  `enumerate(seq, start=0)`: 返回迭代器，其中包含 seq 的索引及其对应的值。\n",
    "#  `sorted(seq[, key][, reverse])`: 返回 seq 的排序list。\n",
    "#   sorted中的key用法和上面例子中的相同\n",
    "#  `reversed(seq)`: 返回一个逆序迭代 seq 的迭代器对象。\n",
    "# '''\n",
    "\n",
    "tuple1=(1,2,3,4)\n",
    "tuple2=reversed(tuple1)\n",
    "print(tuple(tuple2))\n",
    "\n",
    "#  `zip(*seqs)`: 返回一个迭代器，它聚合多个 seq 的元素。\n",
    "\n",
    "\n",
    "# 数据类型转换\n",
    "\n",
    "'''\n",
    "#  `int(x[, base])`: 将 x 转换为整数，base 是进制，默认为十进制。\n",
    "#  `float(x)`: 将 x 转换为浮点数。\n",
    "#  `complex(real[, imag])`: 创建一个复数。\n",
    "#  `str(object)` 或 `str(object, encoding, errors)`: 创建一个字符串对象或解码 bytes 对象。\n",
    "#  `bytes([source[, encoding[, errors]]])`: 创建一个新的 bytes 对象。\n",
    "#  `bytearray([source[, encoding[, errors]]])`: 创建一个 bytearray 对象，它是一个可以修改的 bytes 对象。\n",
    "#  `list(seq)`: 创建一个新的 list 从 seq。\n",
    "#  `tuple(seq)`: 创建一个新的 tuple 从 seq。\n",
    "#  `set([seq])`: 创建一个新的无序且不重复元素的集合。\n",
    "#  `frozenset([seq])`: 创建一个新的不可变集合。\n",
    "#  `dict([seq])` 或 `dict(**kwargs)`: 创建一个新的字典。seq的每个元素项必须是二元的,比如二元元组,二元列表,二元集合,其他字典的键值对等等\n",
    "\n",
    "\n",
    "#  `chr(i)`: 返回 Unicode 字符串中的第 i 个字符。\n",
    "#  `ord(c)`: 返回单个字符 c 的 Unicode 编码。\n",
    "'''\n",
    "\n",
    "\n",
    "# 反射与类型信息\n",
    "\n",
    "#  `getattr(object, name[, default])`: 获取 object 的 name 属性，如果不存在则返回 default 或抛出 AttributeError。\n",
    "#  `hasattr(object, name)`: 如果 object 包含 name 属性，则返回 True，否则返回 False。\n",
    "#  `setattr(object, name, value)`: 设置 object 的 name 属性为 value。\n",
    "#  `type(object)`: 返回 object 的类型。\n",
    "#  `vars([object])`: 返回 object 的 __dict__ 属性，如果没有定义则返回空字典。\n",
    "\n",
    "# 控制流\n",
    "\n",
    "#  `any(seq)`: 如果 seq 中有任何元素为真，则返回 True，否则返回 False。\n",
    "#  `all(seq)`: 如果 seq 中的所有元素都为真（或 seq 为空），则返回 True，否则返回 False。\n",
    "#  `callable(object)`: 如果 object 是可调用的，则返回 True，否则返回 False。\n",
    "\n",
    "\n",
    "\n",
    "#  对象属性\n",
    "#  `property(fget=None, fset=None, fdel=None, doc=None)`: 获取、设置或删除一个对象的属性。\n",
    "#  `staticmethod(func)`: 将 func 转换为静态方法。\n",
    "#  `classmethod(function)`: 将 function 转换为类方法。\n",
    "\n",
    "# 执行代码\n",
    "\n",
    "#  `exec(object[, globals[, locals]])`: 动态执行 Python 程序。\n",
    "#  `eval(expression[, globals[, locals]])`: 计算表达式 expression 的值。\n",
    "#  `compile(source, filename, mode, flags=0, dont_inherit=False, optimize=1)`: 将 source 编译成代码或 AST 对象。\n",
    "\n",
    "#  其他工具\n",
    "\n",
    "#  `help(object)` 或 `help()` (交互模式): 显示关于 object 的帮助信息。\n",
    "#  `print(*objects, sep=' ', end='\\n', file=sys.stdout, flush=False)`: 打印对象到标准输出设备。\n",
    "#  `input([prompt])`: 从标准输入读取一行并返回字符串。\n",
    "#  `next(iterator[, default])`: 从 iterator 获取下一个项目。\n",
    "#  `memoryview(obj)`: 返回 obj 的内存视图。\n"
   ]
  },
  {
   "cell_type": "markdown",
   "metadata": {},
   "source": [
    "### 推导式"
   ]
  },
  {
   "cell_type": "code",
   "execution_count": 10,
   "metadata": {},
   "outputs": [
    {
     "name": "stdout",
     "output_type": "stream",
     "text": [
      "(1, 4, 9, 16, 25, 36, 49, 64, 81, 100)\n",
      "[1, 4, 9, 16, 25, 36, 49, 64, 81, 100]\n",
      "{64, 1, 4, 36, 100, 9, 16, 49, 81, 25}\n",
      "{1: 1, 2: 4, 3: 9, 4: 16, 5: 25, 6: 36, 7: 49, 8: 64, 9: 81, 10: 100}\n"
     ]
    }
   ],
   "source": [
    "''' \n",
    "列表,集合,字典的推导式分别用[],{}括起来,集合和字典的括号没有区别,但字典中的元素是键值对.\n",
    "元组没有推导式,因为推导式元组要一一插入,而元组不可改变,但可以将其他推导式生成的seq转换为元组\n",
    "'''\n",
    "#效果上的元组推导式\n",
    "tuple_result = tuple([x**2 for x in range(1, 11)])\n",
    "print(tuple_result)  # 输出: (1, 4, 9, 16, 25, 36, 49, 64, 81, 100)\n",
    "\n",
    "#列表推导式\n",
    "list_result = [x**2 for x in range(1, 11)]\n",
    "print(list_result)  # 输出: [1, 4, 9, 16, 25, 36, 49, 64, 81, 100]\n",
    "\n",
    "#集合推导式\n",
    "set_result = {x**2 for x in range(1, 11)}\n",
    "print(set_result)  # 输出: {1, 4, 9, 16, 25, 36, 49, 64, 81, 100}\n",
    "\n",
    "#字典推导式\n",
    "# 使用字典推导式生成一个字典\n",
    "dict_result = {x: x**2 for x in range(1, 11)}\n",
    "print(dict_result)  # 输出: {1: 1, 2: 4, 3: 9, 4: 16, 5: 25, 6: 36, 7: 49, 8: 64, 9: 81, 10: 100}"
   ]
  }
 ],
 "metadata": {
  "kernelspec": {
   "display_name": "Python_Learn",
   "language": "python",
   "name": "python3"
  },
  "language_info": {
   "codemirror_mode": {
    "name": "ipython",
    "version": 3
   },
   "file_extension": ".py",
   "mimetype": "text/x-python",
   "name": "python",
   "nbconvert_exporter": "python",
   "pygments_lexer": "ipython3",
   "version": "3.10.14"
  }
 },
 "nbformat": 4,
 "nbformat_minor": 2
}
