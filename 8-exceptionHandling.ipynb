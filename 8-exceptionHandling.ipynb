{
 "cells": [
  {
   "cell_type": "markdown",
   "metadata": {},
   "source": [
    "## 异常处理\n",
    "python中的错误通常是指代码语法错误.  \n",
    "即便 Python 程序的语法是正确的，在运行它的时候，也有可能发生错误。运行期检测到的错误被称为异常。"
   ]
  },
  {
   "cell_type": "markdown",
   "metadata": {},
   "source": [
    "### 异常的捕获和处理\n",
    "- try:\n",
    "    - 执行代码\n",
    "- except:\n",
    "    - 发生异常时执行的代码\n",
    "- else:\n",
    "    - 没有异常时执行的代码\n",
    "- finally:\n",
    "    - 不管有没异常都会执行的代码"
   ]
  },
  {
   "cell_type": "code",
   "execution_count": 5,
   "metadata": {},
   "outputs": [
    {
     "name": "stdout",
     "output_type": "stream",
     "text": [
      "您输入的-3是奇数\n",
      "您本次的输入处理完毕\n",
      "您输入的不是数字，导致出现错误:invalid literal for int() with base 10: 'x',请再次尝试输入！\n",
      "您本次的输入处理完毕\n",
      "您本次的输入处理完毕\n"
     ]
    }
   ],
   "source": [
    "# 常见的异常如下,这些错误通常在程序运行时发生，并可以通过适当的异常处理来捕获和处理。\n",
    "# NameError - 访问未定义的变量。\n",
    "# TypeError - 对不兼容的数据类型进行操作。\n",
    "# ValueError - 传入正确的类型但不合适的值。\n",
    "# IndexError - 访问列表或序列的越界索引。\n",
    "# KeyError - 访问字典中不存在的键。\n",
    "# AttributeError - 访问或调用对象上不存在的属性或方法。\n",
    "# IOError - 输入/输出操作失败。\n",
    "# FileNotFoundError - 尝试打开不存在的文件。\n",
    "# ZeroDivisionError - 尝试除以零。\n",
    "# ImportError - 导入模块或模块中的定义失败。\n",
    "# OSError - 操作系统相关的错误。\n",
    "# MemoryError - 内存不足。\n",
    "# RecursionError - 递归深度超出限制。\n",
    "# AssertionError - 断言失败。\n",
    "\n",
    "while True:\n",
    "    try:\n",
    "        x = int(input(\"请输入一个数字: \"))\n",
    "        if x==-9999:\n",
    "            break\n",
    "    except ValueError as e:\n",
    "        print(f\"您输入的不是数字，导致出现错误:{e},请再次尝试输入！\")\n",
    "    else:\n",
    "        if x%2==0:\n",
    "            print(f\"您输入的{x}是偶数\")\n",
    "        else:\n",
    "            print(f\"您输入的{x}是奇数\")\n",
    "    finally:\n",
    "        print(\"您本次的输入处理完毕\")"
   ]
  },
  {
   "cell_type": "markdown",
   "metadata": {},
   "source": [
    "### 异常抛出\n",
    "raise语句抛出一个指定的异常。  \n",
    "raise唯一的一个参数指定了要被抛出的异常。它必须是一个异常的实例或者是异常的类（也就是 Exception 的子类）。"
   ]
  },
  {
   "cell_type": "code",
   "execution_count": 7,
   "metadata": {},
   "outputs": [
    {
     "ename": "ValueError",
     "evalue": "x不能大于 5,当前x的值为: 10",
     "output_type": "error",
     "traceback": [
      "\u001b[1;31m---------------------------------------------------------------------------\u001b[0m",
      "\u001b[1;31mValueError\u001b[0m                                Traceback (most recent call last)",
      "Cell \u001b[1;32mIn[7], line 4\u001b[0m\n\u001b[0;32m      1\u001b[0m x \u001b[38;5;241m=\u001b[39m \u001b[38;5;241m10\u001b[39m\n\u001b[0;32m      2\u001b[0m \u001b[38;5;28;01mif\u001b[39;00m x \u001b[38;5;241m>\u001b[39m \u001b[38;5;241m5\u001b[39m:\n\u001b[0;32m      3\u001b[0m     \u001b[38;5;66;03m# raise Exception('x不能大于 5,当前x的值为: {}'.format(x))\u001b[39;00m\n\u001b[1;32m----> 4\u001b[0m     \u001b[38;5;28;01mraise\u001b[39;00m \u001b[38;5;167;01mValueError\u001b[39;00m(\u001b[38;5;124m'\u001b[39m\u001b[38;5;124mx不能大于 5,当前x的值为: \u001b[39m\u001b[38;5;132;01m{}\u001b[39;00m\u001b[38;5;124m'\u001b[39m\u001b[38;5;241m.\u001b[39mformat(x))\n",
      "\u001b[1;31mValueError\u001b[0m: x不能大于 5,当前x的值为: 10"
     ]
    }
   ],
   "source": [
    "x = 10\n",
    "if x > 5:\n",
    "    # raise Exception('x不能大于 5,当前x的值为: {}'.format(x))\n",
    "    raise ValueError('x不能大于 5,当前x的值为: {}'.format(x))"
   ]
  },
  {
   "cell_type": "markdown",
   "metadata": {},
   "source": [
    "### 自定义异常\n",
    "可以通过创建一个新的异常类来拥有自己的异常。异常类继承自 Exception 类，可以直接继承，或者间接继承"
   ]
  },
  {
   "cell_type": "code",
   "execution_count": 9,
   "metadata": {},
   "outputs": [
    {
     "ename": "MyError",
     "evalue": "'x不能大于 5,当前x的值为: 10'",
     "output_type": "error",
     "traceback": [
      "\u001b[1;31m---------------------------------------------------------------------------\u001b[0m",
      "\u001b[1;31mMyError\u001b[0m                                   Traceback (most recent call last)",
      "Cell \u001b[1;32mIn[9], line 11\u001b[0m\n\u001b[0;32m      9\u001b[0m x \u001b[38;5;241m=\u001b[39m \u001b[38;5;241m10\u001b[39m\n\u001b[0;32m     10\u001b[0m \u001b[38;5;28;01mif\u001b[39;00m x \u001b[38;5;241m>\u001b[39m \u001b[38;5;241m5\u001b[39m:\n\u001b[1;32m---> 11\u001b[0m     \u001b[38;5;28;01mraise\u001b[39;00m MyError(\u001b[38;5;124mf\u001b[39m\u001b[38;5;124m'\u001b[39m\u001b[38;5;124mx不能大于 5,当前x的值为: \u001b[39m\u001b[38;5;132;01m{\u001b[39;00mx\u001b[38;5;132;01m}\u001b[39;00m\u001b[38;5;124m'\u001b[39m)\n",
      "\u001b[1;31mMyError\u001b[0m: 'x不能大于 5,当前x的值为: 10'"
     ]
    },
    {
     "ename": "",
     "evalue": "",
     "output_type": "error",
     "traceback": [
      "\u001b[1;31m在当前单元格或上一个单元格中执行代码时 Kernel 崩溃。\n",
      "\u001b[1;31m请查看单元格中的代码，以确定故障的可能原因。\n",
      "\u001b[1;31m单击<a href='https://aka.ms/vscodeJupyterKernelCrash'>此处</a>了解详细信息。\n",
      "\u001b[1;31m有关更多详细信息，请查看 Jupyter <a href='command:jupyter.viewOutput'>log</a>。"
     ]
    }
   ],
   "source": [
    "# __str()__函数决定了类与内置函数print的交互\n",
    "class MyError(Exception):\n",
    "    def __init__(self, value):\n",
    "        self.value = value\n",
    "    def __str__(self):\n",
    "        return repr(self.value)\n",
    "\n",
    "\n",
    "x = 10\n",
    "if x > 5:\n",
    "    raise MyError(f'x不能大于 5,当前x的值为: {x}')\n"
   ]
  }
 ],
 "metadata": {
  "kernelspec": {
   "display_name": "Python_Learn",
   "language": "python",
   "name": "python3"
  },
  "language_info": {
   "codemirror_mode": {
    "name": "ipython",
    "version": 3
   },
   "file_extension": ".py",
   "mimetype": "text/x-python",
   "name": "python",
   "nbconvert_exporter": "python",
   "pygments_lexer": "ipython3",
   "version": "3.10.14"
  }
 },
 "nbformat": 4,
 "nbformat_minor": 2
}
