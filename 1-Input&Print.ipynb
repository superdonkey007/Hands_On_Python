{
 "cells": [
  {
   "cell_type": "markdown",
   "metadata": {},
   "source": [
    "# **python基本语法和输入输出**"
   ]
  },
  {
   "cell_type": "markdown",
   "metadata": {},
   "source": [
    "## **1.Python 基础语法**\n",
    "### **注释**"
   ]
  },
  {
   "cell_type": "code",
   "execution_count": 1,
   "metadata": {},
   "outputs": [
    {
     "name": "stdout",
     "output_type": "stream",
     "text": [
      "hello world\n"
     ]
    }
   ],
   "source": [
    "# 这是一行单行注释\n",
    "\n",
    "\"\"\"\n",
    "这是一块\n",
    "多行注释\n",
    "\"\"\"\n",
    "\n",
    "'''\n",
    "这是另一块\n",
    "多行注释\n",
    "'''\n",
    "print(\"hello world\")"
   ]
  },
  {
   "cell_type": "markdown",
   "metadata": {},
   "source": [
    "### **标识符**"
   ]
  },
  {
   "cell_type": "code",
   "execution_count": 2,
   "metadata": {},
   "outputs": [],
   "source": [
    "'''\n",
    "第一个字符必须是字母表中字母或下划线 _ 不能是数字。\n",
    "标识符的其他的部分由字母、数字和下划线组成。\n",
    "标识符对大小写敏感。\n",
    "Python3支持中文和其他非ascii码标识符\n",
    "'''\n",
    "_num = 3\n",
    "# 3ms=0  这样是错的"
   ]
  },
  {
   "cell_type": "markdown",
   "metadata": {},
   "source": [
    "## **2.输入和输出** \n",
    "### **键盘输入** "
   ]
  },
  {
   "cell_type": "code",
   "execution_count": 3,
   "metadata": {},
   "outputs": [
    {
     "name": "stdin",
     "output_type": "stream",
     "text": [
      "请输入： 1/7\n",
      "请输入： 1/7\n"
     ]
    },
    {
     "name": "stdout",
     "output_type": "stream",
     "text": [
      "你输入的内容是:  1/7\n",
      "你第二次输入的内容是:  0.14285714285714285\n"
     ]
    }
   ],
   "source": [
    "str = input(\"请输入：\")\n",
    "num = eval(input(\"请输入：\"))  # 输入1/7直接显示0.14......\n",
    "print(\"你输入的内容是: \", str)\n",
    "print(\"你第二次输入的内容是: \", num)"
   ]
  },
  {
   "cell_type": "markdown",
   "metadata": {},
   "source": [
    "### **print函数** ###"
   ]
  },
  {
   "cell_type": "code",
   "execution_count": 4,
   "metadata": {},
   "outputs": [
    {
     "name": "stdout",
     "output_type": "stream",
     "text": [
      "hello world\n",
      "hello world\n",
      "'hello world'\n",
      "\"hello world\"\n",
      "曾经沧海难为水 除却巫山不是云 取次花丛懒回顾 半缘修道半缘君\n",
      "曾经沧海难为水 除却巫山不是云 取次花丛懒回顾 半缘修道半缘君\n",
      "曾经沧海难为水&除却巫山不是云&取次花丛懒回顾&半缘修道半缘君\n",
      "曾经沧海难为水 除却巫山不是云 取次花丛懒回顾 半缘修道半缘君&\n",
      "曾经沧海难为水\n",
      "除却巫山不是云\n",
      "取次花丛懒回顾\n",
      "半缘修道半缘君\n",
      "曾经沧海难为水\n",
      "除却巫山不是云\n",
      "取次花丛懒回顾\n",
      "半缘修道半缘君\n"
     ]
    }
   ],
   "source": [
    "# 打印输出文本(字符串可以用''或者\"\"标记)\n",
    "print('hello world')\n",
    "print(\"hello world\")\n",
    "print(\"'hello world'\")\n",
    "print('\"hello world\"')\n",
    "# 在输出内容中添加空格的几种方式\n",
    "# 直接输入空格\n",
    "print(\"曾经沧海难为水 除却巫山不是云 取次花丛懒回顾 半缘修道半缘君\")\n",
    "# 用逗号分割\n",
    "print(\"曾经沧海难为水\", \"除却巫山不是云\", \"取次花丛懒回顾\", \"半缘修道半缘君\")\n",
    "# 用逗号分割的方法可以用参数sep指定分隔符（默认为,）\n",
    "print(\"曾经沧海难为水\", \"除却巫山不是云\", \"取次花丛懒回顾\", \"半缘修道半缘君\", sep='&')\n",
    "# 可以用end参数指定结束符(如果不指定默认为换行符\\n)\n",
    "print(\"曾经沧海难为水\", \"除却巫山不是云\", \"取次花丛懒回顾\", \"半缘修道半缘君\", end='&')\n",
    "# 这句实质上是输出\\n\n",
    "print('')\n",
    "# 可以用这种方法实现换行\n",
    "print(\"曾经沧海难为水\", \"除却巫山不是云\", \"取次花丛懒回顾\", \"半缘修道半缘君\", sep='\\n')\n",
    "# 或者用\\n实现强制换行\n",
    "print(\"曾经沧海难为水\\n除却巫山不是云\\n取次花丛懒回顾\\n半缘修道半缘君\")"
   ]
  },
  {
   "cell_type": "markdown",
   "metadata": {},
   "source": [
    "### **旧式格式化输出——本质上是字符串格式化** ###"
   ]
  },
  {
   "cell_type": "code",
   "execution_count": 5,
   "metadata": {},
   "outputs": [
    {
     "name": "stdout",
     "output_type": "stream",
     "text": [
      "24\n",
      "20\n",
      "14\n",
      "1.110000\n",
      "1.1\n",
      "    1.1\n",
      "1.110000e+00\n",
      "1.110e+00\n",
      "1111.11\n",
      "1111.111\n",
      "1.1e+03\n",
      "hello world\n",
      "         hello world\n",
      "hello world         \n",
      "he\n",
      "        he\n",
      "he        \n",
      "学生号       \t 姓名                              \t 科目        \t 分数        \n"
     ]
    }
   ],
   "source": [
    "# 旧式格式化输出以%开头\n",
    "'''\n",
    "整数输出\n",
    "%o 八进制 oct\n",
    "%d 十进制 dec\n",
    "%x 十六进制 hex\n",
    "'''\n",
    "print('%o' % 20)\n",
    "print('%d' % 20)\n",
    "print('%x' % 20)\n",
    "'''\n",
    "小数输出\n",
    "%f 保留小数点后面六位有效数字 float\n",
    "%e 科学计数法表示，保留小数点后面六位有效数字,\n",
    "%g 在保证六位有效数字的前提下，使用小数方式，否则使用科学计数法。\n",
    "'''\n",
    "print('%f' % 1.11)         # 默认保留6位小数1.110000\n",
    "print('%.1f' % 1.11)       # 取1位小数1.1\n",
    "print('%7.1f' % 1.11)       # 取1位小数1.1，小数点.前的数字表明输出最少占多少位\n",
    "# 科学计数法，默认6位有效小数，可以通过小数点.后的数字调整\n",
    "print('%e' % 1.11)         # 默认6位小数，用科学计数法1.110000e+00\n",
    "print('%.3e' % 1.11)       # 取3位小数，用科学计数法1.110e+00\n",
    "# 默认保留6位有效数字，如果整数部分大于6位转用科学计数法\n",
    "print('%g' % 1111.1111)    # 默认6位有效数字1111.11\n",
    "print('%.7g' % 1111.1111)  # 取7位有效数字1111.111\n",
    "print('%.2g' % 1111.1111)  # 取2位有效数字，自动转换为科学计数法1.1e+03\n",
    "'''\n",
    "字符串输出\n",
    "%s 字符串输出 string\n",
    "%10s 右对齐，占位符10位\n",
    "%-10s 左对齐，占位符10位 \n",
    "%.2s 截取 2 位字符串 \n",
    "%10.2s 10位占位符，截取两位字符串。\n",
    "'''\n",
    "print('%s' % 'hello world')       # 字符串输出hello world\n",
    "print('%20s' % 'hello world')     # 右对齐，取20位，不够则补位\n",
    "print('%-20s' % 'hello world')    # 左对齐，取20位，不够则补位\n",
    "print('%.2s' % 'hello world')     # 取2位he\n",
    "print('%10.2s' % 'hello world')   # 右对齐，取2位he\n",
    "print('%-10.2s' % 'hello world')  # 左对齐，取2位he\n",
    "'''\n",
    "多个变量输出\n",
    "'''\n",
    "print(\"%-10s\\t %-32s\\t %-10s\\t %-10s\" % (\"学生号\", \"姓名\", \"科目\", \"分数\"))"
   ]
  },
  {
   "cell_type": "markdown",
   "metadata": {},
   "source": [
    "### **新版输出————str.format()方法** ###"
   ]
  },
  {
   "cell_type": "code",
   "execution_count": 6,
   "metadata": {},
   "outputs": [
    {
     "name": "stdout",
     "output_type": "stream",
     "text": [
      "北京理工大学，我上早八\n",
      "田文镜，我上早八\n",
      "上早八，我田文镜\n",
      "田文镜，我上早八\n",
      "today is fking crazy 'W\\xe9dn\\xe9sday'\n",
      "today is fking crazy 4th day\n",
      "today is fking crazy '4th day'\n",
      "常量 PI 的值近似为 3.142，也可以是3.142。\n",
      "常量 PI 的值近似为 3.142e+00，也可以是3.14。\n",
      "常量 PI 的值近似为 3.1415926536，也可以是3.1415926000。\n",
      "Google:         1;Runoob:        20;Taobao:         3;\n",
      "Runoob:         14; Google:          1; Taobao: 3\n",
      "Runoob: 20; Google: 1; Taobao: 3\n"
     ]
    }
   ],
   "source": [
    "import math\n",
    "# 基本使用：括号及其里面的字符 (称作格式化字段) 将会被 format() 中的参数替换\n",
    "print('{}，我{}'.format('北京理工大学', '上早八'))\n",
    "\n",
    "# {}中可以填参数名，则format函数中的参数也要有参数名\n",
    "print('{name}，我{action}'.format(name='田文镜', action='上早八'))\n",
    "\n",
    "# {}中可以填序号，则会按指定顺序输出\n",
    "print('{1}，我{0}'.format('田文镜', '上早八'))\n",
    "# 位置及关键字参数可以任意的结合:\n",
    "print('{name}，我{0}'.format('上早八', name='田文镜'))\n",
    "\n",
    "# {}中可以填!a (将对应的对象转换成其ASCII表示形式), !s (使用 str()) 和 !r (使用 repr()) 可以用于在格式化某个值之前对其进行转化\n",
    "# str()： 函数返回一个用户易读的表达形式。\n",
    "# repr()： 产生一个解释器易读的表达形式。\n",
    "print('today is fking crazy {!a}'.format('Wédnésday'))\n",
    "print('today is fking crazy {!s}'.format('4th day'))\n",
    "print('today is fking crazy {!r}'.format('4th day'))\n",
    "\n",
    "# {}中可以填可选字段：，：后可以传入旧版的格式化输出\n",
    "print('常量 PI 的值近似为 {0:.3f}，也可以是{1:.3f}。'.format(math.pi, 3.1415926))\n",
    "print('常量 PI 的值近似为 {0:.3e}，也可以是{1:.3g}。'.format(math.pi, 3.1415926))\n",
    "print('常量 PI 的值近似为 {0:.10f}，也可以是{1:.10f}。'.format(math.pi, 3.1415926))\n",
    "\n",
    "# 字典格式化输出\n",
    "# 方法一：\n",
    "table = {'Google': 1, 'Runoob': 20, 'Taobao': 3}\n",
    "for name, number in table.items():\n",
    "    print('{0}:{1:10d}'.format(name, number), end=';')\n",
    "print('')\n",
    "\n",
    "# 方法二：\n",
    "table = {'Google': 1, 'Runoob': 20, 'Taobao': 3}\n",
    "print(\n",
    "    'Runoob: {0[Runoob]:10x}; Google: {0[Google]:10d}; Taobao: {0[Taobao]:d}'.format(table))\n",
    "Runoob: 2\n",
    "Google: 1\n",
    "Taobao: 3\n",
    "\n",
    "# 方法三：\n",
    "table = {'Google': 1, 'Runoob': 20, 'Taobao': 3}\n",
    "print(\n",
    "    'Runoob: {Runoob:d}; Google: {Google:d}; Taobao: {Taobao:d}'.format(**table))\n",
    "Runoob: 2\n",
    "Google: 1\n",
    "Taobao: 3"
   ]
  },
  {
   "cell_type": "markdown",
   "metadata": {},
   "source": [
    "### **输出美化** ###"
   ]
  },
  {
   "cell_type": "code",
   "execution_count": 8,
   "metadata": {},
   "outputs": [
    {
     "name": "stdout",
     "output_type": "stream",
     "text": [
      "学生号\t姓名\t科目\t分数\n",
      "100000101\t阿凡达\t语文\t80\n",
      "100000102\t卡梅隆卡梅隆\t语文\t85\n",
      "100000103\t莫妮卡·贝鲁卡梅隆\t语文\t85\n",
      "学生号\t\t姓名\t\t\t科目\t\t分数\n",
      "100000101\t阿凡达\t\t\t语文\t\t80\n",
      "100000102\t卡梅隆卡梅隆\t\t语文\t\t85\n",
      "100000103\t莫妮卡·贝鲁卡梅隆\t语文\t\t85\n",
      "田文镜，我上早八\n",
      "'田文镜，我上早八'\n",
      "0.14285714285714285\n",
      "('Google', 'Runoob')\n",
      "       田文镜，我上早八\n",
      "田文镜，我上早八       \n",
      "    田文镜，我上早八   \n",
      "0000000田文镜，我上早八\n"
     ]
    }
   ],
   "source": [
    "# 制表符\\t\n",
    "# 可以用制表符\\t规范化输出\n",
    "\"\"\"\n",
    "制表符\\t控制水平间隔，作用如tab键，在打印输出时控制间隔距离\n",
    "\\t表示空8个字符，\n",
    "如果元素占位小于8，各列能实现完美对齐，皆大欢喜；\n",
    "如果字符元素占位大于或等于8个字符，字符元素加\\t会使占位数为大于该串长度的最小8的倍数，若要与其他行对其，要在比较短的数据元素后添加\\t，一个增加8位\n",
    "\"\"\"\n",
    "# 错误print()效果距离：\n",
    "print(\"学生号\\t姓名\\t科目\\t分数\")\n",
    "print(\"100000101\\t阿凡达\\t语文\\t80\")\n",
    "print(\"100000102\\t卡梅隆卡梅隆\\t语文\\t85\")\n",
    "print(\"100000103\\t莫妮卡·贝鲁卡梅隆\\t语文\\t85\")\n",
    "#\n",
    "print(\"学生号\\t\\t姓名\\t\\t\\t科目\\t\\t分数\")\n",
    "print(\"100000101\\t阿凡达\\t\\t\\t语文\\t\\t80\")\n",
    "print(\"100000102\\t卡梅隆卡梅隆\\t\\t语文\\t\\t85\")\n",
    "print(\"100000103\\t莫妮卡·贝鲁卡梅隆\\t语文\\t\\t85\")\n",
    "'''\n",
    "字符串的美化函数\n",
    "str()： 函数返回一个用户易读的表达形式。\n",
    "repr()： 产生一个解释器易读的表达形式。repr() 的参数可以是 Python 的任何对象。\n",
    "'''\n",
    "s = '田文镜，我上早八'\n",
    "del str\n",
    "print(str(s))\n",
    "print(repr(s))\n",
    "print(str(1/7))\n",
    "print(repr(('Google', 'Runoob')))\n",
    "\n",
    "'''\n",
    "rjust()方法可以将字符串靠右, 并在左边填充空格，相似的还有ljust()和center()\n",
    "zfill()会在数字的左边填充 0\n",
    "这几个函数返回值都是字符串\n",
    "'''\n",
    "print(s.rjust(15))\n",
    "print(s.ljust(15))\n",
    "print(s.center(15))\n",
    "print(s.zfill(15))"
   ]
  },
  {
   "cell_type": "code",
   "execution_count": null,
   "metadata": {},
   "outputs": [],
   "source": []
  }
 ],
 "metadata": {
  "kernelspec": {
   "display_name": "Python 3 (ipykernel)",
   "language": "python",
   "name": "python3"
  },
  "language_info": {
   "codemirror_mode": {
    "name": "ipython",
    "version": 3
   },
   "file_extension": ".py",
   "mimetype": "text/x-python",
   "name": "python",
   "nbconvert_exporter": "python",
   "pygments_lexer": "ipython3",
   "version": "3.11.7"
  }
 },
 "nbformat": 4,
 "nbformat_minor": 4
}
