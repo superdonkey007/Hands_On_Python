{
 "cells": [
  {
   "cell_type": "markdown",
   "metadata": {},
   "source": [
    "## 迭代器 生成器和装饰器"
   ]
  },
  {
   "cell_type": "markdown",
   "metadata": {},
   "source": [
    "### 迭代器和生成器的作用\n",
    "**迭代器（Iterators）的好处**：  \n",
    "* 节省内存：迭代器不需要预先加载整个数据集到内存中。它们逐个生成元素，这使得处理大型数据集成为可能，即使是在内存有限的情况下。  \n",
    "* 惰性求值：迭代器仅在需要时才生成下一个值，这可以减少不必要的计算，特别是在处理无限序列或非常长的数据流时。  \n",
    "* 灵活性：迭代器可以根据需要进行定制，实现特定的迭代逻辑，如过滤、映射等操作。  \n",
    "* 简单易用：Python 提供了一系列内置函数（如 map(), filter(), zip(), enumerate() 等）可以直接作用于迭代器，使得代码更加简洁和易于理解  \n",
    "\n",
    "\n",
    "**生成器（Generators）的好处**：  \n",
    "* 简化代码：生成器是一种特殊的迭代器，通过简单的函数定义即可实现复杂的迭代逻辑。\n",
    "* 状态保持：生成器函数可以在每次 yield 后暂停执行，并保留其状态，直到下一次被调用。这意味着局部变量和执行上下文会在每次调用之间保持不变。   \n",
    "* 性能优化：由于生成器函数可以延迟计算结果，因此它们可以提高性能，尤其是在处理计算密集型任务时。  \n",
    "* 无限序列：生成器非常适合生成无限序列，因为它们永远不会耗尽或耗尽内存。  \n",
    "* 管道模式：多个生成器可以级联使用，形成数据处理的管道，使得复杂的多步骤处理变得容易。  "
   ]
  },
  {
   "cell_type": "markdown",
   "metadata": {},
   "source": [
    "### 迭代器--一种能记住遍历位置的对象\n",
    "可迭代对象的__iter()__方法会返回一个迭代器\n",
    "迭代器的__iter()__方法返回自身,__next()__方法访问容器中的下一个元素"
   ]
  },
  {
   "cell_type": "code",
   "execution_count": 16,
   "metadata": {},
   "outputs": [
    {
     "name": "stdout",
     "output_type": "stream",
     "text": [
      "True\n",
      "1\n",
      "2\n",
      "3\n",
      "1\n",
      "2\n",
      "--------------------------------\n",
      "1\n",
      "2\n",
      "3\n",
      "1\n",
      "2\n",
      "3\n",
      "4\n"
     ]
    }
   ],
   "source": [
    "# 一个类只要定义了__iter__()和__next__()两种方法,就可以视作一个迭代器\n",
    "# 这是一个简单手写的listIterator,python中字典的列表迭代器是list_iterator\n",
    "class listIterator:\n",
    "    def __init__(self, data: list) -> None:\n",
    "        self.data = data\n",
    "        self.index = 0\n",
    "        pass\n",
    "\n",
    "    def __iter__(self):\n",
    "        self.index = 0\n",
    "        return self\n",
    "\n",
    "    def __next__(self):\n",
    "        if self.index <= len(self.data)-1:\n",
    "            x = self.data[self.index]\n",
    "            self.index += 1\n",
    "            return x\n",
    "        else:\n",
    "            raise StopIteration\n",
    "\n",
    "\n",
    "# 迭代器类__iter__(obj)的作用是返回自己.即返回迭代器本身\n",
    "# __next__()返回容器中的下一个项目.当没有更多的项目时,它应该引发 StopIteration 异常.\n",
    "iterator = listIterator([1, 2, 3, 4])\n",
    "it = iter(iterator)\n",
    "print(it == iterator)  # __iter__()方法会返回自己\n",
    "print(next(it))\n",
    "print(next(it))\n",
    "print(next(it))\n",
    "it = iter(iterator)\n",
    "print(next(it))\n",
    "print(next(it))\n",
    "\n",
    "\n",
    "print('--------------------------------')\n",
    "# 一个类只要定义了__iter__()方法,就是一个可迭代对象,常见的list,tuple,set,dict以及视图对象dict.items(),dict.keys(),dict.values()都是可迭代对象\n",
    "# 接下来我会手写一个简单的类,在这个例子中扮演python中原本list类的作用\n",
    "\n",
    "\n",
    "class Myclass:\n",
    "    def __init__(self, data: list) -> None:\n",
    "        self.data = data\n",
    "        pass\n",
    "\n",
    "    def __iter__(self):\n",
    "        iterator = listIterator(self.data)\n",
    "        return iterator\n",
    "\n",
    "\n",
    "ls = Myclass([1, 2, 3, 4])\n",
    "it = iter(ls)\n",
    "\n",
    "print(next(it))\n",
    "print(next(it))\n",
    "print(next(it))\n",
    "it = iter(it)\n",
    "print(next(it))\n",
    "print(next(it))\n",
    "print(next(it))\n",
    "print(next(it))\n",
    "# print(next(it)) #这个继续运行的话就会出现StopIteration error\n"
   ]
  },
  {
   "cell_type": "markdown",
   "metadata": {},
   "source": [
    "### 生成器--使用了 yield 的函数被称为生成器（generator）。\n",
    "yield 是一个关键字，用于定义生成器函数，生成器函数是一种特殊的函数，可以在迭代过程中逐步产生值，而不是一次性返回所有结果。   \n",
    "生成器的返回值是一个迭代器,只能用于迭代操作，更简单点理解生成器就是一个迭代器。"
   ]
  },
  {
   "cell_type": "code",
   "execution_count": 17,
   "metadata": {},
   "outputs": [
    {
     "name": "stdout",
     "output_type": "stream",
     "text": [
      "5\n",
      "4\n",
      "3\n",
      "2\n",
      "1\n"
     ]
    }
   ],
   "source": [
    "# 生成器函数的优势是它们可以按需生成值，避免一次性生成大量数据并占用大量内存。\n",
    "# 生成器还可以与其他迭代工具（如for循环）无缝配合使用，提供简洁和高效的迭代方式。\n",
    "\n",
    "def countdown(n):\n",
    "    while n > 0:\n",
    "        yield n\n",
    "        n -= 1\n",
    "\n",
    "\n",
    "# 创建生成器对象\n",
    "generator = countdown(5)\n",
    "\n",
    "# 通过迭代生成器获取值\n",
    "print(next(generator))  # 输出: 5\n",
    "print(next(generator))  # 输出: 4\n",
    "print(next(generator))  # 输出: 3\n",
    "\n",
    "# 使用 for 循环迭代生成器\n",
    "for value in generator:\n",
    "    print(value)  # 输出: 2 1"
   ]
  },
  {
   "cell_type": "markdown",
   "metadata": {},
   "source": [
    "### 装饰器\n",
    "装饰器（Decorator）是一种特殊类型的函数，它的参数是函数,返回值是另一个函数,它可以修改其他函数的功能或行为。  \n",
    "装饰器允许你在不修改原始函数代码的情况下增加新的功能或修改其行为。这使得代码更加模块化并且易于维护。"
   ]
  },
  {
   "cell_type": "code",
   "execution_count": 20,
   "metadata": {},
   "outputs": [
    {
     "name": "stdout",
     "output_type": "stream",
     "text": [
      "example_function 执行时间: 2.0086381435394287 秒\n",
      "函数返回值: 2\n"
     ]
    }
   ],
   "source": [
    "import time\n",
    "\n",
    "def timer_decorator(func):\n",
    "    # 内部函数保留了原函数的元数据（如名称，文档字符串等）\n",
    "    def wrapper(*args, **kwargs):\n",
    "        start_time = time.time()\n",
    "        result = func(*args, **kwargs)\n",
    "        end_time = time.time()\n",
    "        print(f\"{func.__name__} 执行时间: {end_time - start_time} 秒\")\n",
    "        return result #不一定要返回result\n",
    "    return wrapper\n",
    "\n",
    "# 使用修饰器@timer_decorator,调用example_function(n)事实上运行的是wrapper()\n",
    "@timer_decorator\n",
    "def example_function(n):\n",
    "    \"\"\"模拟一个耗时的操作\"\"\"\n",
    "    time.sleep(n)\n",
    "    return n\n",
    "\n",
    "# 使用装饰器后调用函数\n",
    "duration = example_function(2)  # 模拟函数执行2秒\n",
    "print(f\"函数返回值: {duration}\")"
   ]
  }
 ],
 "metadata": {
  "kernelspec": {
   "display_name": "Python_Learn",
   "language": "python",
   "name": "python3"
  },
  "language_info": {
   "codemirror_mode": {
    "name": "ipython",
    "version": 3
   },
   "file_extension": ".py",
   "mimetype": "text/x-python",
   "name": "python",
   "nbconvert_exporter": "python",
   "pygments_lexer": "ipython3",
   "version": "3.10.14"
  }
 },
 "nbformat": 4,
 "nbformat_minor": 2
}
