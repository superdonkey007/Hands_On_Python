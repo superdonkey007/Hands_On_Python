{
 "cells": [
  {
   "cell_type": "markdown",
   "metadata": {},
   "source": [
    "## Numpy\n",
    "Numpy是python的一个常用包,主要用来实现大型矩阵的运算"
   ]
  },
  {
   "cell_type": "code",
   "execution_count": null,
   "metadata": {},
   "outputs": [],
   "source": [
    "# 导入numpy\n",
    "import numpy as np\n",
    "\n",
    "# 其他包\n",
    "import time\n",
    "import random"
   ]
  },
  {
   "cell_type": "markdown",
   "metadata": {},
   "source": [
    "### Numpy的速度\n",
    "为什么我们要使用numpy"
   ]
  },
  {
   "cell_type": "code",
   "execution_count": 3,
   "metadata": {},
   "outputs": [
    {
     "name": "stdout",
     "output_type": "stream",
     "text": [
      "耗时为2.002410650253296\n"
     ]
    }
   ],
   "source": [
    "# 用python的list实现矩阵,用多重循环实现矩阵乘法\n",
    "def pure_python_matrix_multiply(A,B):\n",
    "    m=len(A)\n",
    "    j=len(A[0])\n",
    "    k=len(B)\n",
    "    n=len(B[0])\n",
    "    if(j!=k):\n",
    "        raise ValueError(\"第一个矩阵的列数不等于第二个矩阵的行数\")\n",
    "    C=[[0 for _ in range(n)] for _ in range(m)]\n",
    "    for i in range(m):\n",
    "        for v in range(n):\n",
    "            for b in range(j):\n",
    "                C[i][v]+=A[i][b]*B[b][v]\n",
    "    return C\n",
    "\n",
    "N=200\n",
    "A=[[10*random.random() for _ in range(N)] for _ in range(N)]\n",
    "B=[[10*random.random() for _ in range(N)] for _ in range(N)]\n",
    "start_time=time.time()\n",
    "C=pure_python_matrix_multiply(A,B)\n",
    "# print(C)\n",
    "print(f\"耗时为{time.time()-start_time}\")\n"
   ]
  },
  {
   "cell_type": "code",
   "execution_count": 4,
   "metadata": {},
   "outputs": [
    {
     "name": "stdout",
     "output_type": "stream",
     "text": [
      "耗时为0.0518341064453125\n"
     ]
    }
   ],
   "source": [
    "a=np.array(A)\n",
    "b=np.array(B)\n",
    "start_time=time.time()\n",
    "c=np.dot(a,b)\n",
    "# print(c)\n",
    "print(f\"耗时为{time.time()-start_time}\")"
   ]
  },
  {
   "cell_type": "markdown",
   "metadata": {},
   "source": [
    "### ndarray的创建"
   ]
  },
  {
   "cell_type": "markdown",
   "metadata": {},
   "source": [
    "#### 按指定shape创建ndarray"
   ]
  },
  {
   "cell_type": "code",
   "execution_count": 5,
   "metadata": {},
   "outputs": [
    {
     "name": "stdout",
     "output_type": "stream",
     "text": [
      "[[4.67296746e-307 1.69121096e-306 1.11257937e-307]\n",
      " [1.89146896e-307 7.56571288e-307 3.11525958e-307]\n",
      " [1.24610723e-306 1.29061142e-306 5.53353523e-322]]\n",
      "[[0 0 0]\n",
      " [0 0 0]\n",
      " [0 0 0]]\n",
      "[[1. 1. 1.]\n",
      " [1. 1. 1.]\n",
      " [1. 1. 1.]]\n",
      "[[1 2]\n",
      " [3 4]]\n",
      "<class 'numpy.matrix'>\n",
      "<class 'numpy.matrix'>\n",
      "<class 'numpy.ndarray'>\n",
      "int32\n",
      "int32\n",
      "这样D和matrix就完全没有关系了:\n",
      "[[0. 0. 0.]\n",
      " [0. 0. 0.]\n",
      " [0. 0. 0.]]\n",
      "float64\n",
      "int32\n",
      "[[1 1]\n",
      " [1 1]]\n",
      "[[0 0]\n",
      " [0 0]]\n"
     ]
    }
   ],
   "source": [
    "# np.empty(shape, dtype = float, order = 'C'):创建未初始化的数组\n",
    "# np.empty 方法用来创建一个指定形状（shape）,数据类型（dtype）且未初始化的数组\n",
    "# order\t数组在内存中的存储顺序,可选值为 'C'（按行优先）或 'F'（按列优先）,默认为 'K'（保留输入数组的存储顺序）\n",
    "A = np.empty((3, 3), dtype=np.float64, order='C')\n",
    "print(A)\n",
    "\n",
    "# np.zeros(shape, dtype = float, order = 'C'):创建以0填充的数组\n",
    "B = np.zeros((3, 3), dtype=np.int64, order='C')\n",
    "print(B)\n",
    "\n",
    "# np.ones(shape, dtype = float, order = 'C'):创建以1填充的数组\n",
    "C = np.ones((3, 3), dtype=np.float64, order='C')\n",
    "print(C)\n",
    "\n",
    "\n",
    "# numpy.zeros_like(a, dtype=None, order='K', subok=True, shape=None)\n",
    "# 用于创建一个与给定数组具有相同形状和相同数据格式的数组,数组元素以 0 来填充。\n",
    "# a\t给定要创建相同形状的数组\n",
    "# dtype\t创建的数组的数据类型\n",
    "# order\t数组在内存中的存储顺序,可选值为 'C'（按行优先）或 'F'（按列优先）,默认为 'K'（保留输入数组的存储顺序）\n",
    "'''\n",
    "subok\t是否允许返回子类,如果为 True,则返回一个子类对象,否则返回一个与 a 数组具有相同数据类型和存储顺序的数组.\n",
    "        比如numpy有子类matlib,子类的返回值是一个矩阵对象,如果将矩阵对象作为a输入\n",
    "        如果subok为True,函数返回的也是矩阵对象\n",
    "        如果subok为False,函数返回的对象是标准ndarray\n",
    "'''\n",
    "matrix = np.matrix([[1, 2], [3, 4]])\n",
    "print(matrix)\n",
    "print(type(matrix))\n",
    "D = np.zeros_like(matrix, dtype=None, order='C', subok=True, shape=None)\n",
    "print(type(D))\n",
    "D = np.zeros_like(matrix, dtype=None, order='C', subok=False, shape=None)\n",
    "print(type(D))\n",
    "# shape\t创建的数组的形状,如果不指定,则默认为 a 数组的形状。\n",
    "# 这个参数一般不使用,因为使用zeros_like函数一般就是为了生成和a形状相同的ndarray,如果指定shape,那么只能保证数据类型与原数组相同,如果同时再指定dtype,直接去使用zeros就好了\n",
    "D = np.zeros_like(matrix, dtype=None, order='C', subok=False, shape=(3, 3))\n",
    "print(D.dtype)\n",
    "print(matrix.dtype)\n",
    "D = np.zeros_like(matrix, dtype=np.float64, order='C',\n",
    "                  subok=False, shape=(3, 3))\n",
    "print(\"这样D和matrix就完全没有关系了:\")\n",
    "print(D)\n",
    "print(D.dtype)\n",
    "print(matrix.dtype)\n",
    "\n",
    "# numpy.ones_like(a, dtype=None, order='C', subok=True, shape=None)\n",
    "# numpy.empty_like(a, dtype=None, order='C', subok=True, shape=None)\n",
    "# 这两个函数的参数和zeros_like相同\n",
    "E = np.ones_like(matrix, dtype=None, order='C', subok=False, shape=None)\n",
    "F = np.empty_like(matrix, dtype=None, order='C', subok=False, shape=None)\n",
    "print(E)\n",
    "print(F)"
   ]
  },
  {
   "cell_type": "markdown",
   "metadata": {},
   "source": [
    "#### 从数据范围生成ndarray"
   ]
  },
  {
   "cell_type": "code",
   "execution_count": 6,
   "metadata": {},
   "outputs": [
    {
     "name": "stdout",
     "output_type": "stream",
     "text": [
      "[ 1.  3.  5.  7.  9. 11. 13. 15. 17. 19. 21. 23. 25. 27. 29. 31. 33. 35.\n",
      " 37. 39. 41. 43. 45. 47. 49. 51. 53. 55. 57. 59. 61. 63. 65. 67. 69. 71.\n",
      " 73. 75. 77. 79. 81. 83. 85. 87. 89. 91. 93. 95. 97. 99.]\n",
      "[ 0.          3.33333333  6.66666667 10.         13.33333333 16.66666667\n",
      " 20.         23.33333333 26.66666667 30.         33.33333333 36.66666667\n",
      " 40.         43.33333333 46.66666667 50.         53.33333333 56.66666667\n",
      " 60.         63.33333333 66.66666667 70.         73.33333333 76.66666667\n",
      " 80.         83.33333333 86.66666667 90.         93.33333333 96.66666667]\n",
      "30\n",
      "[  0.           3.44827586   6.89655172  10.34482759  13.79310345\n",
      "  17.24137931  20.68965517  24.13793103  27.5862069   31.03448276\n",
      "  34.48275862  37.93103448  41.37931034  44.82758621  48.27586207\n",
      "  51.72413793  55.17241379  58.62068966  62.06896552  65.51724138\n",
      "  68.96551724  72.4137931   75.86206897  79.31034483  82.75862069\n",
      "  86.20689655  89.65517241  93.10344828  96.55172414 100.        ]\n",
      "30\n",
      "[         1         10        100       1000      10000     100000\n",
      "    1000000   10000000  100000000 1000000000]\n",
      "[1.00000000e+00 1.29154967e+01 1.66810054e+02 2.15443469e+03\n",
      " 2.78255940e+04 3.59381366e+05 4.64158883e+06 5.99484250e+07\n",
      " 7.74263683e+08 1.00000000e+10]\n"
     ]
    }
   ],
   "source": [
    "'''\n",
    "numpy.arange(start, stop, step, dtype)\n",
    "根据 start 与 stop 指定的范围以及 step 设定的步长,生成一个一维ndarray.\n",
    "start\t起始值,默认为0\n",
    "stop\t终止值（不包含）\n",
    "step\t步长,默认为1\n",
    "dtype\t返回ndarray的数据类型,如果没有提供,则会使用输入数据的类型。\n",
    "'''\n",
    "A=np.arange(1,100,2,np.float64)\n",
    "print(A)\n",
    "\n",
    "'''\n",
    "np.linspace(start, stop, num=50, endpoint=True, retstep=False, dtype=None)\n",
    "start\t序列的起始值\n",
    "stop\t序列的终止值,如果endpoint为true,该值包含于数列中\n",
    "num\t要生成的等步长的样本数量,默认为50\n",
    "endpoint\t该值为 true 时,数列中包含stop值,反之不包含,默认是True。\n",
    "retstep\t如果为 True 时,生成的数组中会显示间距,反之不显示。\n",
    "dtype\tndarray 的数据类型\n",
    "'''\n",
    "\n",
    "B=np.linspace(0,100,30,endpoint=False,retstep=False,dtype=np.float64)\n",
    "print(B)\n",
    "print(B.size)\n",
    "B=np.linspace(0,100,30,endpoint=True,retstep=False,dtype=np.float64)\n",
    "print(B)\n",
    "print(B.size)\n",
    "\n",
    "'''\n",
    "np.logspace(start, stop, num=50, endpoint=True, base=10.0, dtype=None)\n",
    "函数用于创建一个等比数列\n",
    "start\t    序列的起始值为:base ** start\n",
    "stop\t    序列的终止值为:base ** stop。如果endpoint为true,该值包含于数列中\n",
    "num\t        要生成的等步长的样本数量,默认为50\n",
    "endpoint\t该值为 true 时,数列中中包含stop值,反之不包含,默认是True。\n",
    "base\t    幂的基数\n",
    "dtype\t    ndarray 的数据类型\n",
    "'''\n",
    "#endpoint为False的话,类似于左闭右开区间,endpoint为True,类似于左右端点确定,再平均分配中间的数\n",
    "#np.logspace(0, 10, num=10, endpoint=True, base=10, dtype=np.int64)比如这句,十个数字实际上吧1到10的幂指数平均分了9份,不是十份\n",
    "C=np.logspace(0, 10, num=10, endpoint=False, base=10, dtype=np.int64)\n",
    "print(C)\n",
    "C=np.logspace(0, 10, num=10, endpoint=True, base=10, dtype=np.float64)\n",
    "print(C)\n"
   ]
  },
  {
   "cell_type": "markdown",
   "metadata": {},
   "source": [
    "#### 从已有序列转换ndarray"
   ]
  },
  {
   "cell_type": "code",
   "execution_count": 8,
   "metadata": {},
   "outputs": [
    {
     "name": "stdout",
     "output_type": "stream",
     "text": [
      "[1 2 3]\n",
      "[999   2   3]\n",
      "[[[1 2 3]]]\n",
      "[1 2]\n",
      "[2 2]\n",
      "[2 2]\n"
     ]
    }
   ],
   "source": [
    "'''\n",
    "numpy.array(object, dtype=None, *, copy=True, order='K', subok=False, ndmin=0, like=None)\n",
    "\n",
    "object\t数组或实现了__array__方法(NumPy库的一部分)的对象,或其他可迭代对象,如果输入对象是一个标量（即单个值,如数字或字符串）,那么返回的是一个0维数组,这个数组只包含那个标量值。\n",
    "dtype\t数组元素的数据类型\n",
    "copy\t对象是深拷贝还是浅拷贝,copy为True是深拷贝\n",
    "order\t数组在内存中的存储顺序,可选值为 'C'（按行优先）或 'F'（按列优先）,默认为 'K'（保留输入数组的存储顺序）\n",
    "'''\n",
    "# return  对非ndarray对象,返回一个复制数据新建的ndarray,如果object是ndarray对象,会深拷贝一个ndarray并返回\n",
    "\n",
    "A = np.array([1, 2, 3])\n",
    "# 使用 copy=True 创建一个新数组\n",
    "B = np.array(A, copy=True)\n",
    "# 使用 copy=False 创建一个新数组\n",
    "C = np.array(A, copy=False)\n",
    "A[0] = 999\n",
    "print(B)\n",
    "print(C)\n",
    "# order\t创建数组的样式,C为行方向,F为列方向,A为默认方法\n",
    "# subok\t默认返回一个与基类类型一致的数组\n",
    "# ndmin\t指定生成数组的最小维度\n",
    "D = np.array([1, 2, 3], ndmin=3)\n",
    "print(D)\n",
    "\n",
    "\n",
    "'''\n",
    "numpy.asarray(a, dtype=None, order=None, *, device=None, copy=None, like=None)\n",
    "a   输入数据,采用可转换为数组的任何形式。这包括列表、元组列表、元组、元组的元组组、列表的元组和 ndarray.\n",
    "dtype\t数组元素的数据类型\n",
    "copy\t对象是深拷贝还是浅拷贝,copy为True是深拷贝,默认为None,表示仅在必要情况下复制数据,比如如果a是ndarray,则浅拷贝\n",
    "like    通常用于创建与给定参考对象相似的新数组.\n",
    "        例如,如果你有一个CuPy数组(CuPy是一个支持GPU加速的数组库),并希望使用NumPy函数创建一个与之兼容的新数组,\n",
    "        你可以将CuPy数组传递给like参数,从而确保新数组也是CuPy数组而不是NumPy数组.\n",
    "'''\n",
    "\n",
    "# asanyarray()的特殊之处是支持np的各种子类,可以返回如matrix子类等子类,asanyarray和asarray一样,非必要不深拷贝\n",
    "'''\n",
    "numpy.asanyarray(a, dtype=None, order=None, *,like=None)\n",
    "a   输入数据,采用可转换为数组的任何形式。这包括列表、元组列表、元组、元组的元组组、列表的元组和 ndarray.\n",
    "dtype\t数组元素的数据类型\n",
    "like    通常用于创建与给定参考对象相似的新数组.\n",
    "        例如,如果你有一个CuPy数组(CuPy是一个支持GPU加速的数组库),并希望使用NumPy函数创建一个与之兼容的新数组,\n",
    "        你可以将CuPy数组传递给like参数,从而确保新数组也是CuPy数组而不是NumPy数组.\n",
    "'''\n",
    "# 对比三个函数拷贝的不同\n",
    "a = np.array([1, 2])\n",
    "b = np.array(a)\n",
    "c = np.asarray(a)\n",
    "d = np.asanyarray(a)\n",
    "a[0] = 2\n",
    "print(b)\n",
    "print(c)\n",
    "print(d)"
   ]
  },
  {
   "cell_type": "markdown",
   "metadata": {},
   "source": [
    "### 索引和访问"
   ]
  },
  {
   "cell_type": "markdown",
   "metadata": {},
   "source": [
    "#### 常用索引和切片"
   ]
  },
  {
   "cell_type": "code",
   "execution_count": 41,
   "metadata": {},
   "outputs": [
    {
     "name": "stdout",
     "output_type": "stream",
     "text": [
      "334\n",
      "[[[135 136]\n",
      "  [145 146]]\n",
      "\n",
      " [[235 236]\n",
      "  [245 246]]]\n",
      "[135 235]\n"
     ]
    }
   ],
   "source": [
    "# 一维数组的索引和切片和Python的list切片一样\n",
    "\n",
    "# 多维数组的索引和多维list一样，切片分维度切，每个维度和一维list切片一样，各维度之间用逗号分割\n",
    "# 多维list不支持多维切片，只能用列表推导式\n",
    "A=np.arange(1,1001)\n",
    "A=A.reshape(10,10,10)\n",
    "#单个元素索引\n",
    "B=A[3][3][3]\n",
    "print(B)\n",
    "C=A[1:3,3:5,4:6]\n",
    "print(C)\n",
    "#切片还可以包括省略号 …，来使选择元组的长度与数组的维度相同。\n",
    "D=C[...,0,0]\n",
    "print(D)\n"
   ]
  },
  {
   "cell_type": "markdown",
   "metadata": {},
   "source": [
    "#### 高级索引"
   ]
  },
  {
   "cell_type": "code",
   "execution_count": 51,
   "metadata": {},
   "outputs": [
    {
     "name": "stdout",
     "output_type": "stream",
     "text": [
      "[1 4 5]\n",
      "------------------------------\n",
      "[[ 0  1  2]\n",
      " [ 3  4  5]\n",
      " [ 6  7  8]\n",
      " [ 9 10 11]]\n",
      "[[False False False]\n",
      " [False False False]\n",
      " [ True  True  True]\n",
      " [ True  True  True]]\n",
      "[ 6  7  8  9 10 11]\n",
      "------------------------------\n",
      "[[[ 0  1  2]\n",
      "  [ 3  4  5]\n",
      "  [ 6  7  8]]\n",
      "\n",
      " [[ 9 10 11]\n",
      "  [12 13 14]\n",
      "  [15 16 17]]\n",
      "\n",
      " [[18 19 20]\n",
      "  [21 22 23]\n",
      "  [24 25 26]]]\n",
      "[[ 0  1  2]\n",
      " [15 16 17]]\n"
     ]
    }
   ],
   "source": [
    "# 整数数组索引\n",
    "\n",
    "# 整数数组索引是指使用一个数组C来访问另一个数组A的元素，这个数组中的每个元素都是目标数组中某个维度上的索引值。\n",
    "# C的每个子数组的第i个元素，组合起来就是对A某一个元素的索引\n",
    "A = np.array([[1,  2],  [3,  4],  [5,  6]]) \n",
    "B = A[[0,1,2],  [0,1,0]]  \n",
    "print (B)\n",
    "print(\"------------------------------\")\n",
    "\n",
    "\n",
    "# 布尔索引\n",
    "# 我们可以通过一个布尔数组来索引目标数组。\n",
    "\n",
    "import numpy as np \n",
    " \n",
    "X = np.array([[  0,  1,  2],[  3,  4,  5],[  6,  7,  8],[  9,  10,  11]])  \n",
    "print (X)\n",
    "print(X>5)\n",
    "print (X[X >  5])\n",
    "print(\"------------------------------\")\n",
    "\n",
    "\n",
    "# 花式索引--像一种不是很完备的整数索引\n",
    "# 花式索引根据索引数组的值作为目标数组的某个轴的下标来取值\n",
    "\n",
    "x=np.arange(27).reshape((3,3,3))\n",
    "print(x)\n",
    "print(x[[0,1],[0,2]])"
   ]
  },
  {
   "cell_type": "markdown",
   "metadata": {},
   "source": [
    "### 常用属性"
   ]
  },
  {
   "cell_type": "code",
   "execution_count": 27,
   "metadata": {},
   "outputs": [
    {
     "name": "stdout",
     "output_type": "stream",
     "text": [
      "numpy_ndarray:  [[ 0  1  2]\n",
      " [ 3  4  5]\n",
      " [ 6  7  8]\n",
      " [ 9 10 11]]\n",
      "shape:  (4, 3)\n",
      "ndim:  2\n",
      "size:  12\n",
      "dtype:  int32\n",
      "flags:    C_CONTIGUOUS : True\n",
      "  F_CONTIGUOUS : False\n",
      "  OWNDATA : True\n",
      "  WRITEABLE : True\n",
      "  ALIGNED : True\n",
      "  WRITEBACKIFCOPY : False\n",
      "\n"
     ]
    }
   ],
   "source": [
    "# ndarray的属性\n",
    "X = np.array([[  0,  1,  2],[  3,  4,  5],[  6,  7,  8],[  9,  10,  11]])  \n",
    "print('numpy_ndarray: ',X)\n",
    "print('shape: ', X.shape)  # 形状\n",
    "print('ndim: ', X.ndim)  # 维数\n",
    "print('size: ', X.size)  # 元素个数\n",
    "print('dtype: ', X.dtype)  # 元素类型\n",
    "print('flags: ', X.flags)  # 数组内存信息\n",
    "# ndarray.itemsize：返回数组储存的数据类型所占字节数。\n",
    "# ndarray.nbytes：返回该数组占用的储存空间的总字节数。\n",
    "# ndarray.T：返回该数组的转置。\n",
    "# ndarray.real：返回该数组中每个元素的实部。\n",
    "# ndarray.imag：返回该数组中每个元素的虚部。\n"
   ]
  },
  {
   "cell_type": "markdown",
   "metadata": {},
   "source": [
    "### ndarray的运算"
   ]
  },
  {
   "cell_type": "code",
   "execution_count": 25,
   "metadata": {},
   "outputs": [
    {
     "name": "stdout",
     "output_type": "stream",
     "text": [
      "[[ 6  8]\n",
      " [10 12]]\n",
      "[[-4 -4]\n",
      " [-4 -4]]\n",
      "[[ 5 12]\n",
      " [21 32]]\n",
      "[[0.2        0.33333333]\n",
      " [0.42857143 0.5       ]]\n",
      "----------------\n",
      "[[False False]\n",
      " [False False]]\n",
      "[[ True  True]\n",
      " [ True False]]\n",
      "----------------\n"
     ]
    }
   ],
   "source": [
    "# 四则运算 四则运算是ndarray各个元素之间的运算,如果各ndarray之间的形状不同，会进行广播\n",
    "A = np.array([[1, 2], [3, 4]])  # 定义一个2x2的矩阵 \n",
    "B = np.array([[5, 6], [7, 8]])  # 定义一个2x2的矩阵\n",
    "print(A + B)  # 矩阵加法\n",
    "print(A - B)  # 矩阵减法\n",
    "print(A * B)  # 矩阵乘法\n",
    "print(A / B)  # 矩阵除法\n",
    "print('----------------')\n",
    "# ><等比较运算\n",
    "# 比较运算符返回一个和原数组形状相同的bool数组，依次比较各元素，返回True或False\n",
    "print(A > B)  # 矩阵比较\n",
    "print(A <= 3)  # 矩阵比较\n",
    "print('----------------')\n"
   ]
  },
  {
   "cell_type": "code",
   "execution_count": 26,
   "metadata": {},
   "outputs": [
    {
     "name": "stdout",
     "output_type": "stream",
     "text": [
      "[[ 6  8]\n",
      " [10 12]]\n",
      "arr1.shape (1, 3, 2, 1, 5)\n",
      "arr2.shape (6, 3, 1, 5, 1)\n",
      "(6, 3, 2, 5, 5)\n",
      "----------------\n",
      "[[19 22]\n",
      " [43 50]]\n",
      "[[19 22]\n",
      " [43 50]]\n",
      "----------------\n",
      "[[1 3]\n",
      " [2 4]]\n",
      "[[1 3]\n",
      " [2 4]]\n",
      "----------------\n",
      "[[ 1  4]\n",
      " [ 9 16]]\n",
      "[[1.         1.41421356]\n",
      " [1.73205081 2.        ]]\n"
     ]
    }
   ],
   "source": [
    "# 广播机制 将各维度数据比较少的数据进行扩展，使得各维度数据相同，然后进行运算\n",
    "C = np.array([[1], [3]])  # 定义一个2x1的矩阵\n",
    "D = np.array([[5, 6]])  # 定义一个1x2的矩阵\n",
    "print(A + B)  # 矩阵加法\n",
    "arr1 = np.arange(30).reshape((1, 3, 2, 1, 5))\n",
    "arr2 = np.arange(90).reshape((6, 3, 1, 5, 1))\n",
    "print('arr1.shape', arr1.shape)\n",
    "print('arr2.shape', arr2.shape)\n",
    "res = arr1 + arr2\n",
    "print(res.shape)\n",
    "print('----------------')\n",
    "#矩阵乘法 两种方法等价\n",
    "print(np.dot(A, B))\n",
    "print(A @ B)\n",
    "print('----------------')\n",
    "#矩阵转置\n",
    "print(A.T)\n",
    "print(A.transpose())\n",
    "print('----------------')\n",
    "#乘方和开方\n",
    "print(A ** 2) # 乘方\n",
    "print(np.sqrt(A)) # 开方"
   ]
  },
  {
   "cell_type": "code",
   "execution_count": 11,
   "metadata": {},
   "outputs": [
    {
     "name": "stdout",
     "output_type": "stream",
     "text": [
      "[0.0000000e+00 1.0000000e+00 1.2246468e-16]\n",
      "[ 1.000000e+00  6.123234e-17 -1.000000e+00]\n",
      "[ 0.00000000e+00  1.63312394e+16 -1.22464680e-16]\n",
      "[ 0.          1.57079633 -1.57079633]\n",
      "[1.57079633 0.         3.14159265]\n",
      "[ 0.          0.78539816 -0.78539816]\n",
      "3.141592653589793\n",
      "180.0\n"
     ]
    }
   ],
   "source": [
    "# 三角函数运算\n",
    "# 1. 基础三角函数\n",
    "# numpy.sin(x): 计算数组 x 中每个元素的正弦值，输入的 x 是弧度制。\n",
    "# numpy.cos(x): 计算数组 x 中每个元素的余弦值，输入的 x 是弧度制。\n",
    "# numpy.tan(x): 计算数组 x 中每个元素的正切值，输入的 x 是弧度制。\n",
    "# 2. 反三角函数\n",
    "# numpy.arcsin(x): 计算数组 x 中每个元素的反正弦值，返回的值是弧度。\n",
    "# numpy.arccos(x): 计算数组 x 中每个元素的反余弦值，返回的值是弧度。\n",
    "# numpy.arctan(x): 计算数组 x 中每个元素的反正切值，返回的值是弧度。\n",
    "# numpy.arctan2(y, x): 计算 y/x 的反正切值，考虑到 x 和 y 的符号，返回的值是弧度，用于确定点 (x, y) 的方位角。\n",
    "# 3. 双曲三角函数\n",
    "# numpy.sinh(x): 计算数组 x 中每个元素的双曲正弦值。\n",
    "# numpy.cosh(x): 计算数组 x 中每个元素的双曲余弦值。\n",
    "# numpy.tanh(x): 计算数组 x 中每个元素的双曲正切值。\n",
    "# 4. 反双曲三角函数\n",
    "# numpy.arcsinh(x): 计算数组 x 中每个元素的反双曲正弦值。\n",
    "# numpy.arccosh(x): 计算数组 x 中每个元素的反双曲余弦值。\n",
    "# numpy.arctanh(x): 计算数组 x 中每个元素的反双曲正切值。\n",
    "# 5. 角度转换\n",
    "# numpy.deg2rad(x): 将角度 x 从度数转换为弧度。\n",
    "# numpy.rad2deg(x): 将角度 x 从弧度转换为度数。\n",
    "# 6. 特殊三角函数\n",
    "# numpy.hypot(x, y): 计算欧几里得范数 sqrt(x**2 + y**2)，即直角三角形的斜边长度。\n",
    "\n",
    "# 基本三角函数\n",
    "x = np.array([0, np.pi / 2, np.pi])\n",
    "print(np.sin(x))  # [0. 1. 0.]\n",
    "print(np.cos(x))  # [ 1. 0. -1.]\n",
    "print(np.tan(x))  # [ 0. 1.63312394e+16 0.]\n",
    "\n",
    "# 反三角函数\n",
    "y = np.array([0, 1, -1])\n",
    "print(np.arcsin(y))  # [ 0.          1.57079633 -1.57079633]\n",
    "print(np.arccos(y))  # [1.57079633 0.         3.14159265]\n",
    "print(np.arctan(y))  # [ 0.          0.78539816 -0.78539816]\n",
    "\n",
    "# 角度转换\n",
    "print(np.deg2rad(180))  # 3.141592653589793\n",
    "print(np.rad2deg(np.pi))  # 180.0"
   ]
  },
  {
   "cell_type": "code",
   "execution_count": null,
   "metadata": {},
   "outputs": [
    {
     "name": "stdout",
     "output_type": "stream",
     "text": [
      "7.0\n",
      "5.0\n",
      "4.497941445275415\n",
      "[[1. 1. 1. 1.]\n",
      " [1. 1. 1. 1.]\n",
      " [1. 1. 1. 1.]\n",
      " [1. 1. 1. 1.]]\n",
      "[[0.5 0.5 0.5 0.5]\n",
      " [0.5 0.5 0.5 0.5]\n",
      " [0.5 0.5 0.5 0.5]\n",
      " [0.5 0.5 0.5 0.5]]\n"
     ]
    }
   ],
   "source": [
    "# 统计方法\n",
    "\n",
    "# 范数\n",
    "vec = np.array([3, 4])\n",
    "print(np.linalg.norm(vec, ord=1))\t# L1\n",
    "print(np.linalg.norm(vec))\t\t\t  # L2\n",
    "print(np.linalg.norm(vec, ord=3))\t# L3\n",
    "\n",
    "#相关性分析\n",
    "print(np.corrcoef(A, B)) # 皮尔逊系数矩阵\n",
    "print(np.cov(A, B))\t# 协方差矩阵\n",
    "\n",
    "# 常用的统计值\n",
    "arr = np.arange(0, 10)\n",
    "\n",
    "# 最值\n",
    "print(arr.min())\n",
    "print(arr.max())\n",
    "\n",
    "# 中位数\n",
    "print(np.median(arr))\n",
    "\n",
    "# 四分位点\n",
    "Q1 = np.percentile(arr, 25)\n",
    "Q1 = np.percentile(arr, 50)\n",
    "Q1 = np.percentile(arr, 75)\n",
    "\n",
    "# 求和/均值\n",
    "print(arr.sum())\n",
    "print(arr.mean())\n",
    "\n",
    "# 标准差/方差\n",
    "print(arr.std())\n",
    "print(arr.var())"
   ]
  },
  {
   "cell_type": "code",
   "execution_count": null,
   "metadata": {},
   "outputs": [
    {
     "name": "stdout",
     "output_type": "stream",
     "text": [
      "[10  2  3 40]\n",
      "c > 0 [False  True  True False]\n",
      "[ 10   0 300 400]\n"
     ]
    }
   ],
   "source": [
    "a = np.array([1, 2, 3, 4])\n",
    "b = np.array([10, 20, 30, 40])\n",
    "c = np.array([-1, 1, 1, -1])\n",
    "# ndarray的条件运算\n",
    "# np.where(condition, x, y)\n",
    "result = np.where(c > 0, a, b)\t# 满足条件则取 x，否则取 y，所以 0 位是 False，取 b 的值，1 位是 True，取 a 的值\n",
    "print(result)\n",
    "\n",
    "print('c > 0', c > 0) # 返回一个布尔数组，比如 c > 0 返回 [False  True  True False]\n",
    "# np.select(conditions, choices, default=0) \n",
    "# conditions：条件列表。\n",
    "# choices：每个条件对应的值列表。\n",
    "# default：当所有条件都不满足时返回的默认值（可选）。\n",
    "conditions = [a < 2, a > 2]\n",
    "choices = [a * 10, a * 100]\n",
    "# 当 a < 2 时，返回 a * 10，否则返回 a * 100\n",
    "# 所以 [1, 2, 3, 4] -> [1 * 10, 2 * 100, 3 * 100, 4 * 100]\n",
    "result = np.select(conditions, choices, default=0)\n",
    "print(result)"
   ]
  },
  {
   "cell_type": "markdown",
   "metadata": {},
   "source": [
    "### ndarray的形状操作和拼接"
   ]
  },
  {
   "cell_type": "code",
   "execution_count": null,
   "metadata": {},
   "outputs": [
    {
     "name": "stdout",
     "output_type": "stream",
     "text": [
      "reshape: \n",
      "[[1 2 3]\n",
      " [4 5 6]]\n",
      "[[1 2]\n",
      " [3 4]\n",
      " [5 6]]\n",
      "[1 2 3 4 5 6]\n",
      "[ 1  2  3  4 10 20 30 40]\n",
      "[[ 1  2  3  4]\n",
      " [10 20 30 40]]\n",
      "[ 1  2  3  4 10 20 30 40]\n",
      "c.shape:  (3, 3, 3, 3)\n",
      "d.shape:  (3, 3, 3, 3)\n",
      "res0.shape:  (6, 3, 3, 3)\n",
      "res1.shape:  (3, 6, 3, 3)\n",
      "res2.shape:  (3, 3, 6, 3)\n",
      "res3.shape:  (3, 3, 3, 6)\n"
     ]
    }
   ],
   "source": [
    "#更改形状 reshape flatten \n",
    "nd_array = np.array([[1, 2, 3], [4, 5, 6]])\n",
    "\n",
    "print(\"reshape: \")\n",
    "print(nd_array)\n",
    "\n",
    "new_nd_array = nd_array.reshape((3, 2)) # 改变数组形状\n",
    "print(new_nd_array)\n",
    "\n",
    "new_nd_array = new_nd_array.flatten()   # 将多维数组展开为一维\n",
    "print(new_nd_array)\n",
    "\n",
    "#数组的拼接\n",
    "a = np.array([1, 2, 3, 4])\n",
    "b = np.array([10, 20, 30, 40])\n",
    "print(np.hstack([a, b])) # 水平拼接数组\n",
    "print(np.vstack([a, b])) # 垂直拼接数组\n",
    "\n",
    "# 按axis拼接\n",
    "c = np.arange(81).reshape((3,3,3,3))\n",
    "d = np.array(range(81)).reshape((3,3,3,3))\n",
    "\n",
    "print('c.shape: ', c.shape)\n",
    "print('d.shape: ', d.shape)\n",
    "res0 = np.concatenate([c, d], axis=0)\n",
    "res1 = np.concatenate([c, d], axis=1)\n",
    "res2 = np.concatenate([c, d], axis=2)\n",
    "res3 = np.concatenate([c, d], axis=3)\n",
    "print('res0.shape: ', res0.shape)\n",
    "print('res1.shape: ', res1.shape)\n",
    "print('res2.shape: ', res2.shape)\n",
    "print('res3.shape: ', res3.shape)"
   ]
  },
  {
   "cell_type": "markdown",
   "metadata": {},
   "source": [
    "### 数值文件的读写"
   ]
  },
  {
   "cell_type": "code",
   "execution_count": 32,
   "metadata": {},
   "outputs": [
    {
     "name": "stdout",
     "output_type": "stream",
     "text": [
      "[1 2 3 4 5]\n",
      "[1 2 3]\n",
      "[4 5 6]\n",
      "[[1.5 2.3 3.1]\n",
      " [4.7 5.5 6.8]]\n",
      "[[1.5 2.3 3.1]\n",
      " [4.7 5.5 6.8]]\n"
     ]
    }
   ],
   "source": [
    "# 1. .npy文件的读写\n",
    "# np.save()：将数组保存到 .npy 文件中。\n",
    "# np.load()：从 .npy 文件中读取数组。\n",
    "\n",
    "arr = np.array([1, 2, 3, 4, 5])\n",
    "# 保存数组到文件\n",
    "np.save('array_file.npy', arr)\n",
    "# 从文件读取数组\n",
    "loaded_arr = np.load('array_file.npy')\n",
    "print(loaded_arr)  # 输出: [1 2 3 4 5]\n",
    "\n",
    "\n",
    "# 2. .npz文件的读写\n",
    "# np.savez()：将多个数组保存到一个 .npz 压缩文件中。\n",
    "# np.load()：从 .npz 文件中读取数组。\n",
    "\n",
    "arr1 = np.array([1, 2, 3])\n",
    "arr2 = np.array([4, 5, 6])\n",
    "# 保存多个数组到一个压缩文件\n",
    "np.savez('arrays_file.npz', array1=arr1, array2=arr2)\n",
    "loaded = np.load('arrays_file.npz')\n",
    "print(loaded['array1'])  # 输出: [1 2 3]\n",
    "print(loaded['array2'])  # 输出: [4 5 6]\n",
    "\n",
    "# 3. csv文件和txt文件的读写\n",
    "# np.savetxt()：将数组保存为文本文件（如 .txt 或 .csv 格式）。\n",
    "# np.loadtxt()：从文本文件中读取数组。\n",
    "\n",
    "arr = np.array([[1.5, 2.3, 3.1], [4.7, 5.5, 6.8]])\n",
    "# 保存数组到文本文件\n",
    "np.savetxt('array_file.txt', arr, delimiter=',')\n",
    "\n",
    "# 从文本文件读取数组\n",
    "loaded_arr = np.loadtxt('array_file.txt', delimiter=',')\n",
    "print(loaded_arr)\n",
    "\n",
    "np.savetxt('array_file.csv', arr, delimiter=',')\n",
    "\n",
    "# 从文本文件读取数组\n",
    "loaded_arr = np.loadtxt('array_file.csv', delimiter=',')\n",
    "print(loaded_arr)"
   ]
  },
  {
   "cell_type": "code",
   "execution_count": null,
   "metadata": {},
   "outputs": [],
   "source": []
  }
 ],
 "metadata": {
  "kernelspec": {
   "display_name": "Python_Learn",
   "language": "python",
   "name": "python3"
  },
  "language_info": {
   "codemirror_mode": {
    "name": "ipython",
    "version": 3
   },
   "file_extension": ".py",
   "mimetype": "text/x-python",
   "name": "python",
   "nbconvert_exporter": "python",
   "pygments_lexer": "ipython3",
   "version": "3.10.14"
  }
 },
 "nbformat": 4,
 "nbformat_minor": 2
}
